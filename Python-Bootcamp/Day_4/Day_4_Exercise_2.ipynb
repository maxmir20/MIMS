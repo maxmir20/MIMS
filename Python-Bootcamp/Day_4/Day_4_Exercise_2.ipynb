{
 "cells": [
  {
   "cell_type": "code",
   "execution_count": 16,
   "metadata": {},
   "outputs": [
    {
     "name": "stdout",
     "output_type": "stream",
     "text": [
      "['Prakhar prakharchandna\\n', 'Tiffany nameistiffyp\\n', 'Mandy mleung32\\n', 'Akshara akshara08\\n', 'Nicole nicoletchi\\n', 'Manasi manasi1994\\n', 'Ramya Ramya0694\\n', 'Max maxmir20\\n', 'Brinda brinsga\\n', 'Yin qyinhelena\\n', 'Min Hyung chung-grace\\n', 'Arika ArikaVerma\\n', 'Esther estherjan\\n', 'Nitin NiStannum\\n', 'Joanne joannejia17']\n",
      "[['Prakhar', 'prakharchandna'], ['Tiffany', 'nameistiffyp'], ['Mandy', 'mleung32'], ['Akshara', 'akshara08'], ['Nicole', 'nicoletchi'], ['Manasi', 'manasi1994'], ['Ramya', 'Ramya0694'], ['Max', 'maxmir20'], ['Brinda', 'brinsga'], ['Yin', 'qyinhelena'], ['Min', 'Hyung', 'chung-grace'], ['Arika', 'ArikaVerma'], ['Esther', 'estherjan'], ['Nitin', 'NiStannum'], ['Joanne', 'joannejia17']]\n",
      "['Akshara', 'Arika', 'Brinda', 'Esther', 'Joanne', 'Manasi', 'Mandy', 'Max', 'Min Hyung', 'Nicole', 'Nitin', 'Prakhar', 'Ramya', 'Tiffany', 'Yin']\n"
     ]
    }
   ],
   "source": [
    "import os\n",
    "\n",
    "def rplusp():\n",
    "    userlist = []\n",
    "    file = open('roster.txt', 'r')\n",
    "    for i in file: #the for loop reads line by line\n",
    "        userlist.append(i) #add the line to the list each time it runs through\n",
    "\n",
    "    print(userlist)\n",
    "rplusp()\n",
    "\n",
    "def rpluspplus():\n",
    "    userlist = [] \n",
    "    file = open('roster.txt', 'r')\n",
    "    for i in file: #for loop reads line by line\n",
    "        sublist = i.split() #creates a new list that splits the line that is being read\n",
    "        userlist.append(sublist) #adds the newly created list to our original list each time it runs through\n",
    "\n",
    "    print(userlist)\n",
    "\n",
    "rpluspplus()\n",
    "\n",
    "def rpluspplusplus():\n",
    "    userlist = []\n",
    "    file = open('roster.txt', 'r')\n",
    "    for i in file:\n",
    "        sublist = i.split() #splits the sub list into two\n",
    "        sublist.pop(len(sublist)-1) #pops out the second index of the sub list\n",
    "        strcon = ' '.join(sublist) #creates a string of the remaining index value\n",
    "        userlist.append(strcon) #adds the list to each\n",
    "\n",
    "    userlist.sort()\n",
    "    print(userlist)\n",
    "\n",
    "rpluspplusplus()"
   ]
  },
  {
   "cell_type": "code",
   "execution_count": null,
   "metadata": {},
   "outputs": [],
   "source": []
  }
 ],
 "metadata": {
  "kernelspec": {
   "display_name": "Python 3",
   "language": "python",
   "name": "python3"
  },
  "language_info": {
   "codemirror_mode": {
    "name": "ipython",
    "version": 3
   },
   "file_extension": ".py",
   "mimetype": "text/x-python",
   "name": "python",
   "nbconvert_exporter": "python",
   "pygments_lexer": "ipython3",
   "version": "3.7.4"
  }
 },
 "nbformat": 4,
 "nbformat_minor": 2
}
