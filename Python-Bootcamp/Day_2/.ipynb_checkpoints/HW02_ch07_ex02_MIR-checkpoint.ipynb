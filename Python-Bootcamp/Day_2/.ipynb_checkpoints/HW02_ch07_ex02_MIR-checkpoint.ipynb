{
 "cells": [
  {
   "cell_type": "code",
   "execution_count": 1,
   "metadata": {},
   "outputs": [
    {
     "name": "stdout",
     "output_type": "stream",
     "text": [
      "please put in something to evaluate math.sqrt(9)\n",
      "3.0\n",
      "please put in something to evaluate done\n",
      "3.0\n",
      "None\n"
     ]
    }
   ],
   "source": [
    "#!/usr/bin/env python3\n",
    "# HW04_ch07_ex02\n",
    "\n",
    "# The built-in function eval takes a string and evaluates it using the Python\n",
    "# interpreter.\n",
    "# For example:\n",
    "\n",
    "#     >>> eval('1 + 2 * 3')\n",
    "#     7\n",
    "#     >>> import math\n",
    "#     >>> eval('math.sqrt(5)')\n",
    "#     2.2360679774997898\n",
    "#     >>> eval('type(math.pi)')\n",
    "#     <type 'float'>\n",
    "\n",
    "# Write a function called eval_loop that iteratively prompts the user, takes\n",
    "# the resulting input and evaluates it using eval, and prints the result.\n",
    "\n",
    "def eval_loop():\n",
    "    last_eval = ''\n",
    "    a = input('please put in something to evaluate ')\n",
    "    while a != 'done':\n",
    "        try:\n",
    "            eval(a)\n",
    "            print(eval(a))\n",
    "            last_eval = eval(a)\n",
    "        except:\n",
    "            print('cant evaluate this, please try again ')\n",
    "        \n",
    "        a = input('please put in something to evaluate ')\n",
    "\n",
    "    else:\n",
    "        print(last_eval)\n",
    "\n",
    "# It should continue until the user enters 'done', and then return the value of\n",
    "# the last expression it evaluated.\n",
    "\n",
    "# Here is an opportunity to use things like `try`, `except`, and/or `finally`.\n",
    "\n",
    "# Please write a docstring for every function you write.\n",
    "\n",
    "###############################################################################\n",
    "# Imports\n",
    "import math\n",
    "\n",
    "# Body\n",
    "def eval_loop():\n",
    "    last_eval = ''\n",
    "    a = input('please put in something to evaluate ')\n",
    "    while a != 'done':\n",
    "        try:\n",
    "            eval(a)\n",
    "            print(eval(a))\n",
    "            last_eval = eval(a)\n",
    "        except:\n",
    "            print('cant evaluate this, please try again ')\n",
    "        \n",
    "        a = input('please put in something to evaluate ')\n",
    "\n",
    "    else:\n",
    "        print(last_eval)\n",
    "\n",
    "###############################################################################\n",
    "def main():\n",
    "    pass  # Remove this line and uncomment below once eval_loop is defined.\n",
    "    print(eval_loop())\n",
    "\n",
    "\n",
    "if __name__ == '__main__':\n",
    "    main()\n"
   ]
  },
  {
   "cell_type": "code",
   "execution_count": null,
   "metadata": {},
   "outputs": [],
   "source": []
  }
 ],
 "metadata": {
  "kernelspec": {
   "display_name": "Python 3",
   "language": "python",
   "name": "python3"
  },
  "language_info": {
   "codemirror_mode": {
    "name": "ipython",
    "version": 3
   },
   "file_extension": ".py",
   "mimetype": "text/x-python",
   "name": "python",
   "nbconvert_exporter": "python",
   "pygments_lexer": "ipython3",
   "version": "3.6.8"
  }
 },
 "nbformat": 4,
 "nbformat_minor": 2
}
