{
 "cells": [
  {
   "cell_type": "code",
   "execution_count": null,
   "metadata": {},
   "outputs": [],
   "source": [
    "# HW01_ch01_ex02_03\n",
    "# Start the Python interpreter and use it as a calculator.\n",
    "# Python's syntax for math operations is almost the same as\n",
    "# standard mathematical notation. For example, the symbols\n",
    "# +, - and / denote addition, subtraction and division, as you would expect.\n",
    "# The symbol for multiplication is *.\n",
    "\n",
    "# If you run a 10 kilometer race in 42 minutes 42 seconds, what is your\n",
    "# average pace (time per mile in minutes and seconds)? What is your average\n",
    "# speed in miles per hour?\n",
    "\n",
    "# Insert Answers\n",
    "# Average Pace (minutes & seconds per mile): 6 minutes 52 seconds\n",
    "\n",
    "# Average Speed in MPH:  8.752112676056338\n",
    "\n",
    "# Insert calculations below (paste from the interpreter):\n",
    "\n",
    "#minutes(with seconds converted into fraction of minutes) divided by kilometers( converted into miles)\n",
    "42.7/(10 * (.6214))\n",
    "\n",
    "#kilometers (converted into miles) divided by minutes(converted into fraction of an hour) \n",
    "(10 * (.6214)) /.71"
   ]
  },
  {
   "cell_type": "code",
   "execution_count": 4,
   "metadata": {},
   "outputs": [
    {
     "data": {
      "text/plain": [
       "6.871580302542647"
      ]
     },
     "execution_count": 4,
     "metadata": {},
     "output_type": "execute_result"
    }
   ],
   "source": [
    "42.7/(10 * (.6214))"
   ]
  },
  {
   "cell_type": "code",
   "execution_count": 2,
   "metadata": {},
   "outputs": [
    {
     "data": {
      "text/plain": [
       "8.752112676056338"
      ]
     },
     "execution_count": 2,
     "metadata": {},
     "output_type": "execute_result"
    }
   ],
   "source": [
    "(10 * (.6214)) /.71"
   ]
  },
  {
   "cell_type": "code",
   "execution_count": null,
   "metadata": {},
   "outputs": [],
   "source": []
  }
 ],
 "metadata": {
  "kernelspec": {
   "display_name": "Python 3",
   "language": "python",
   "name": "python3"
  },
  "language_info": {
   "codemirror_mode": {
    "name": "ipython",
    "version": 3
   },
   "file_extension": ".py",
   "mimetype": "text/x-python",
   "name": "python",
   "nbconvert_exporter": "python",
   "pygments_lexer": "ipython3",
   "version": "3.6.8"
  }
 },
 "nbformat": 4,
 "nbformat_minor": 2
}
