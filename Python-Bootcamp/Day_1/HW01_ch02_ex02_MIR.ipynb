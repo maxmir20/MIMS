{
 "cells": [
  {
   "cell_type": "code",
   "execution_count": null,
   "metadata": {},
   "outputs": [],
   "source": [
    "# HW01_ch02_ex02\n",
    "# NOTE: You do not run this script.\n",
    "# #\n",
    "# Practice using the Python interpreter as a calculator.\n",
    "# Paste answer and calculations below\n",
    "\n",
    "# 1. The volume of a sphere with radius r is 4/3 π r^3.\n",
    "# What is the volume of a sphere with radius 5? \n",
    "\n",
    "#volume: 523.5987755982989\n",
    "\n",
    "import math \n",
    "r = 5\n",
    "vol = 4/3 * math.pi * math.pow(r,3)\n",
    "print(vol)\n",
    "\n",
    "# 2. Suppose the cover price of a book is $24.95, but bookstores get a\n",
    "# 40% discount. Shipping costs $3 for the first copy and 75 cents for\n",
    "# each additional copy. What is the total wholesale cost for 60 copies?\n",
    "\n",
    "# total wholesale cost: 945.4499999999999\n",
    " \n",
    "price = 24.95\n",
    "dis = price * .4\n",
    "units = 60\n",
    "ship = 3 + (units -1) * .75\n",
    "#cost equals the price (minus the discount) multipled by the total number of units plus the shipping cost\n",
    "cost = (price - dis) * units + ship\n",
    "print(cost)\n",
    "\n",
    "\n",
    "# 3. If I leave my house at 6:52 am and run 1 mile at an easy pace\n",
    "# (8:15 per mile), then 3 miles at tempo (7:12 per mile) and 1 mile at easy\n",
    "# pace again, what time do I get home for breakfast?\n",
    "# time: 7:30\n",
    "\n",
    "#we convert the minutes of 6:52 to fraction of the hour by doing min/60\n",
    "start = 6.866\n",
    "\n",
    "#we convert the seconds of the runtime minutes to a fraction of minutes by doing sec/60\n",
    "easy = 8.25\n",
    "tempo = 7.2\n",
    "# total amount of minutes ran, which is then converted into fraction of hour\n",
    "totalrun = (2* easy + 3 * tempo ) /60\n",
    "#gives us the end time of the total run added to the start time. if we want it in minutes, we need to convert it so .5 * 60 =\n",
    "# 30. i.e 7:30\n",
    "end = start + totalrun\n",
    "print(end)\n"
   ]
  },
  {
   "cell_type": "code",
   "execution_count": 7,
   "metadata": {
    "scrolled": true
   },
   "outputs": [
    {
     "name": "stdout",
     "output_type": "stream",
     "text": [
      "523.5987755982989\n"
     ]
    }
   ],
   "source": [
    "import math \n",
    "r = 5\n",
    "vol = 4/3 * math.pi * math.pow(r,3)\n",
    "print(vol)"
   ]
  },
  {
   "cell_type": "code",
   "execution_count": 15,
   "metadata": {},
   "outputs": [
    {
     "data": {
      "text/plain": [
       "945.4499999999999"
      ]
     },
     "execution_count": 15,
     "metadata": {},
     "output_type": "execute_result"
    }
   ],
   "source": [
    "price = 24.95\n",
    "#discounted price\n",
    "dis = price * .4\n",
    "#total units\n",
    "units = 60\n",
    "#shipping fees ($3 for first unit + .75 * remaining units)\n",
    "ship = 3 + (units -1) * .75 \n",
    "#total price equals price minus discount, multiplied by the total units, then adding shipping fees\n",
    "(price - dis) * units + ship"
   ]
  },
  {
   "cell_type": "code",
   "execution_count": 28,
   "metadata": {},
   "outputs": [
    {
     "name": "stdout",
     "output_type": "stream",
     "text": [
      "7.5009999999999994\n"
     ]
    }
   ],
   "source": [
    "\n",
    "#we convert the minutes of the hour to a percent of the hour by doing min/60\n",
    "start = 6.866\n",
    "\n",
    "#we convert the seconds of the runtime minutes to a percent of minutes by doing sec/60\n",
    "easy = 8.25\n",
    "tempo = 7.2\n",
    "# total amount of minutes ran/converted into percent of hour\n",
    "totalrun = (2* easy + 3 * tempo ) /60\n",
    "#gives us the end time of the total run added to the start time. if we want it in minutes, we need to convert it so .5 * 60 =\n",
    "# 30. i.e 7:30\n",
    "end = start + totalrun\n",
    "print(end)\n"
   ]
  }
 ],
 "metadata": {
  "kernelspec": {
   "display_name": "Python 3",
   "language": "python",
   "name": "python3"
  },
  "language_info": {
   "codemirror_mode": {
    "name": "ipython",
    "version": 3
   },
   "file_extension": ".py",
   "mimetype": "text/x-python",
   "name": "python",
   "nbconvert_exporter": "python",
   "pygments_lexer": "ipython3",
   "version": "3.6.8"
  }
 },
 "nbformat": 4,
 "nbformat_minor": 2
}
