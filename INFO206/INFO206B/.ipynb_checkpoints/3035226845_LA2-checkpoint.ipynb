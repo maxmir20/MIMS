{
 "cells": [
  {
   "cell_type": "markdown",
   "metadata": {},
   "source": [
    "## Soldier Class"
   ]
  },
  {
   "cell_type": "code",
   "execution_count": 1,
   "metadata": {},
   "outputs": [],
   "source": [
    "class Soldier:\n",
    "    def __init__ (self, data):\n",
    "        self.data = data\n",
    "        self.next = None\n",
    "        self.prev = None\n",
    "    \n",
    "    def set_prev(self, prev_node):\n",
    "        prev_node.next = self #assigns the next of the previous node to the current node address\n",
    "        self.prev = prev_node #assigns the current node's previous to the previous node        \n",
    "    \n",
    "    def kill(self):\n",
    "        print('soldier ' + str(self.data) + ' is killed')\n",
    "        # removes own address \n",
    "        temp = self.next \n",
    "        temp.prev = self.prev\n",
    "        self.prev.next = temp\n",
    "        "
   ]
  },
  {
   "cell_type": "markdown",
   "metadata": {},
   "source": [
    "## Army Class"
   ]
  },
  {
   "cell_type": "code",
   "execution_count": 4,
   "metadata": {
    "scrolled": false
   },
   "outputs": [],
   "source": [
    "        \n",
    "class Army:\n",
    "    def __init__ (self, size):\n",
    "        self.first = None\n",
    "        self.build(size)# builds linked list based on size count put in\n",
    "\n",
    "    def build (self, army_length):\n",
    "        first = Soldier(1) #sets it so the address of the first soldier is held\n",
    "        prev_node = first #sets previous node to the first node address\n",
    "        \n",
    "        for i in range(2,army_length +1): #+1 because range is inclusive)\n",
    "\n",
    "            current_node = Soldier(i) # creates a current node \n",
    "            current_node.set_prev(prev_node) #calls member function for setting the previous address based on prev_node\n",
    "\n",
    "            #checks if we're at the end of the list\n",
    "            if i == army_length:\n",
    "                first.set_prev(current_node) #if yes, sets prev_node of first to the current node we just created\n",
    "            else:\n",
    "                prev_node = current_node #otherwise sets it so the current node can be called on the next loop\n",
    "        \n",
    "        self.first = first  #at the end, sets it so that the self.first variable is the first object we make          \n",
    "\n",
    "        \n",
    "    def initiate_kill_sequence (self, k):\n",
    "        ptr = self.first\n",
    "        kill = 1 #used to evaluate if we need to keep going\n",
    "        while ptr != ptr.next: #keeps going until they're the same (only one left in the list)\n",
    "            if kill%k == 0: #if kill variable mod k ==0 it means we've reached our target and can remove them from the linked list\n",
    "                ptr.kill()\n",
    "                kill = 1 #resets so it can start over\n",
    "            else:    #if we don't kill this person, we add 1 to the kill counter\n",
    "                kill+=1\n",
    "                \n",
    "            ptr = ptr.next\n",
    "        print(str(ptr.data) + ' survives (you should stand in this position)') #returns this at the end \n",
    "        \n",
    "\n",
    "\n",
    "\n",
    " "
   ]
  },
  {
   "cell_type": "markdown",
   "metadata": {},
   "source": [
    "# Driver Code: Build and Decimate Army"
   ]
  },
  {
   "cell_type": "code",
   "execution_count": 5,
   "metadata": {},
   "outputs": [
    {
     "name": "stdout",
     "output_type": "stream",
     "text": [
      "Welcome to the Josephus Sneaky Tricks Survival Calculator!\n",
      "Please enter the size of the army you're looking to survive: 8\n",
      "Please enter the order in which you would like the soldiers to die (you monster)4\n",
      "soldier 4 is killed\n",
      "soldier 8 is killed\n",
      "soldier 5 is killed\n",
      "soldier 2 is killed\n",
      "soldier 1 is killed\n",
      "soldier 3 is killed\n",
      "soldier 7 is killed\n",
      "6 survives (you should stand in this position)\n"
     ]
    }
   ],
   "source": [
    "print('Welcome to the Josephus Sneaky Tricks Survival Calculator!')\n",
    "while True:\n",
    "    try:\n",
    "        armysize = int(input(\"Please enter the size of the army you're looking to survive: \"))\n",
    "        army = Army(armysize)\n",
    "        kill_number = int(input(\"Please enter the order in which you would like the soldiers to die (you monster)\"))\n",
    "        army.initiate_kill_sequence(kill_number)\n",
    "        break\n",
    "    except:\n",
    "        print('Oops look like an error occured, please try again')"
   ]
  },
  {
   "cell_type": "code",
   "execution_count": null,
   "metadata": {},
   "outputs": [],
   "source": []
  }
 ],
 "metadata": {
  "kernelspec": {
   "display_name": "Python 3",
   "language": "python",
   "name": "python3"
  },
  "language_info": {
   "codemirror_mode": {
    "name": "ipython",
    "version": 3
   },
   "file_extension": ".py",
   "mimetype": "text/x-python",
   "name": "python",
   "nbconvert_exporter": "python",
   "pygments_lexer": "ipython3",
   "version": "3.7.4"
  }
 },
 "nbformat": 4,
 "nbformat_minor": 2
}
