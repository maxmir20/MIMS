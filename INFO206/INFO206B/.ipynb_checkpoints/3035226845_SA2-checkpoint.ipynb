{
 "cells": [
  {
   "cell_type": "code",
   "execution_count": 14,
   "metadata": {},
   "outputs": [
    {
     "name": "stdout",
     "output_type": "stream",
     "text": [
      "[29, 11, 39, 33, 12, 7, 16, 26, 2, 23, 10, 6]\n",
      "One more time!\n",
      "One more time!\n",
      "One more time!\n",
      "One more time!\n",
      "One more time!\n",
      "One more time!\n",
      "One more time!\n",
      "One more time!\n",
      "One more time!\n",
      "One more time!\n",
      "Sorted\n",
      "[2, 6, 7, 10, 11, 12, 16, 23, 26, 29, 33, 39]\n"
     ]
    }
   ],
   "source": [
    "import random\n",
    "\n",
    "sort_list = []\n",
    "sort_list = random.sample(range(1,40), random.randrange(4,20))\n",
    "\n",
    "def bubble_sort(L):\n",
    "    print(L)\n",
    "    while True:\n",
    "        count = 0\n",
    "        for i in range(len(L)-1):        \n",
    "            #print(L[i], L[i+1])\n",
    "            if L[i] > L[i+1]:\n",
    "                temp = L[i+1]\n",
    "                L[i+1] = L[i]\n",
    "                L[i] = temp\n",
    "                #print('swapped')\n",
    "                count+=1\n",
    "        if count == 0:\n",
    "            print('Sorted')\n",
    "            print(L)\n",
    "            break\n",
    "        else:\n",
    "            print('One more time!')\n",
    "    \n",
    "bubble_sort(sort_list)\n",
    "\n"
   ]
  },
  {
   "cell_type": "code",
   "execution_count": null,
   "metadata": {},
   "outputs": [],
   "source": []
  }
 ],
 "metadata": {
  "kernelspec": {
   "display_name": "Python 3",
   "language": "python",
   "name": "python3"
  },
  "language_info": {
   "codemirror_mode": {
    "name": "ipython",
    "version": 3
   },
   "file_extension": ".py",
   "mimetype": "text/x-python",
   "name": "python",
   "nbconvert_exporter": "python",
   "pygments_lexer": "ipython3",
   "version": "3.7.4"
  }
 },
 "nbformat": 4,
 "nbformat_minor": 2
}
