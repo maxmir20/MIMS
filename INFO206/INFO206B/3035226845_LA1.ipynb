{
 "cells": [
  {
   "cell_type": "code",
   "execution_count": 9,
   "metadata": {},
   "outputs": [
    {
     "data": {
      "text/plain": [
       "10"
      ]
     },
     "execution_count": 9,
     "metadata": {},
     "output_type": "execute_result"
    }
   ],
   "source": [
    "from random import randrange\n",
    "\n",
    "def binary_search(ls, key, l, r):\n",
    "    if ls[l] < ls[r] == []:  #If there is only one element in the list or if it's empty. (I'm honestly not sure why this works, it doesn't when I just do l < r or [l:r] ==[])\n",
    "        return None\n",
    "    else:\n",
    "        midpoint = int((l + r)/2) #takes int of average of both ends\n",
    "    \n",
    "    if key == ls[midpoint]:  #if the key equals to the element at the midpoint then its been found and the index can be returned      \n",
    "        return midpoint\n",
    "    elif key < ls[midpoint]: #otherwise if the key is less that the element at the midpoint, we know it's at a smaller index position\n",
    "        return binary_search(ls, key, l, midpoint-1) #searches from the beginning of the list to just before the midpoint(since we know it's not that)\n",
    "    else: #otherwise it must be at an index that's higher than the midpoint\n",
    "        return binary_search(ls, key, midpoint+1, r) #same thing but starts just after the midpoint\n",
    "        "
   ]
  },
  {
   "cell_type": "code",
   "execution_count": null,
   "metadata": {},
   "outputs": [],
   "source": [
    "def driver_code():    \n",
    "    choice = int(input('please select how long you would like the list to be: ')) #asks for list length\n",
    "    sort_list = [] #list we'll be using for binary search\n",
    "    for i in range(choice): #iterates \"choice\" times\n",
    "        sort_list.append(randrange(0,1001)) #adds a random int between 0-1000 (randrange is exclusive at the end)\n",
    "    sort_list.sort() #sorts the list\n",
    "    print(sort_list) #prints it to for the user \n",
    "    while True: #loops through list until user chooses to quit or selects what number they want\n",
    "        key = input('Please select the number within the list you would like to find the index position of ' + \n",
    "                    '(you can also press \"?\"\" to show this list again or \"q\" to exit): ') #let's user choose what number they're looking for\n",
    "        if key == '?': #lets user to see the list again\n",
    "            print(sort_list)\n",
    "        elif key == 'q': #breaks out of the loop and stops the program\n",
    "            break\n",
    "        else: #prints the final string of where the key is in the list (if it is indeed there)\n",
    "            print ('The number ' + str(key) + ' is located at the ' + str(binary_search(sort_list, int(key), 0, len(sort_list)-1)) + ' index position')\n",
    "            break\n",
    "\n",
    "               \n",
    "driver_code()"
   ]
  },
  {
   "cell_type": "code",
   "execution_count": null,
   "metadata": {},
   "outputs": [],
   "source": []
  },
  {
   "cell_type": "code",
   "execution_count": null,
   "metadata": {},
   "outputs": [],
   "source": []
  }
 ],
 "metadata": {
  "kernelspec": {
   "display_name": "Python 3",
   "language": "python",
   "name": "python3"
  },
  "language_info": {
   "codemirror_mode": {
    "name": "ipython",
    "version": 3
   },
   "file_extension": ".py",
   "mimetype": "text/x-python",
   "name": "python",
   "nbconvert_exporter": "python",
   "pygments_lexer": "ipython3",
   "version": "3.7.4"
  }
 },
 "nbformat": 4,
 "nbformat_minor": 2
}
