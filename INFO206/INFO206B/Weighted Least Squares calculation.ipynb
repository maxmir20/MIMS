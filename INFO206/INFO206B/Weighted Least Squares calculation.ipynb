{
 "cells": [
  {
   "cell_type": "code",
   "execution_count": 20,
   "metadata": {},
   "outputs": [
    {
     "name": "stdout",
     "output_type": "stream",
     "text": [
      "(10, 10)\n",
      "[[1.69358763 0.         0.         0.         0.         0.\n",
      "  0.         0.         0.         0.        ]\n",
      " [0.         4.37328886 0.         0.         0.         0.\n",
      "  0.         0.         0.         0.        ]\n",
      " [0.         0.         3.73268035 0.         0.         0.\n",
      "  0.         0.         0.         0.        ]\n",
      " [0.         0.         0.         5.10053492 0.         0.\n",
      "  0.         0.         0.         0.        ]\n",
      " [0.         0.         0.         0.         4.40494045 0.\n",
      "  0.         0.         0.         0.        ]\n",
      " [0.         0.         0.         0.         0.         8.34652937\n",
      "  0.         0.         0.         0.        ]\n",
      " [0.         0.         0.         0.         0.         0.\n",
      "  6.79798531 0.         0.         0.        ]\n",
      " [0.         0.         0.         0.         0.         0.\n",
      "  0.         4.438635   0.         0.        ]\n",
      " [0.         0.         0.         0.         0.         0.\n",
      "  0.         0.         4.73681347 0.        ]\n",
      " [0.         0.         0.         0.         0.         0.\n",
      "  0.         0.         0.         2.85269805]]\n"
     ]
    },
    {
     "data": {
      "text/plain": [
       "[<matplotlib.lines.Line2D at 0x117d34750>]"
      ]
     },
     "execution_count": 20,
     "metadata": {},
     "output_type": "execute_result"
    },
    {
     "data": {
      "image/png": "[encoded data removed]",
      "text/plain": [
       "<Figure size 432x288 with 1 Axes>"
      ]
     },
     "metadata": {
      "needs_background": "light"
     },
     "output_type": "display_data"
    }
   ],
   "source": [
    "import numpy as np\n",
    "from numpy.linalg import inv\n",
    "import matplotlib.pyplot as plt\n",
    "import math\n",
    "# generate \"noisy\" data\n",
    "n = 10 # number of points\n",
    "x = 5*np.random.randn(n)\n",
    "y = np.random.randn(1)*x + np.random.randn(1) # first-order polynomial\n",
    "y = y + np.random.randn(n) # add noise\n",
    "# your least-squares and weighted least-squares code here\n",
    "X = np.stack( (x, np.ones((len(x)))), axis=1) #turns our x's into a matrix for our matrix multiplication\n",
    "u = inv(np.transpose(X)@X)@np.transpose(X)@y # Calculates least squares using X transpose * X * X tranpose * yi\n",
    "\n",
    "\n",
    "#weighted least squared\n",
    "wlist = []\n",
    "for i in range(n):\n",
    "    wchunk = []\n",
    "    for j in range(n):\n",
    "        if j==i:\n",
    "            wchunk.append(1 + np.sqrt( np.square(x[j]) + np.square(y[j])))\n",
    "        else:\n",
    "            wchunk.append(0)\n",
    "    wlist.append(wchunk)\n",
    "\n",
    "                               \n",
    "         \n",
    "    \n",
    "W = np.array (wlist)\n",
    "print(W.shape)\n",
    "print(W)\n",
    "\n",
    "uw = inv(np.transpose(X)@np.transpose(W)@W@X)@np.transpose(X)@np.transpose(W)@W@y\n",
    "# plot data and least-squares fit\n",
    "x0 = np.arange(-10,10,0.1)\n",
    "y1 = u[0]*x0 + u[1]\n",
    "y2 = uw[0]*x0 + uw[1]\n",
    "ax = plt.subplot(1,1,1)\n",
    "plt.plot(x,y,'bo', label='data') # original data\n",
    "plt.plot( x0, y1, 'r-', label='LS') # least-squares fit\n",
    "plt.plot( x0, y2, 'g-', label='WLS' ) # weighted least-squares fitax.legend()plt.show()"
   ]
  },
  {
   "cell_type": "code",
   "execution_count": null,
   "metadata": {},
   "outputs": [],
   "source": []
  }
 ],
 "metadata": {
  "kernelspec": {
   "display_name": "Python 3",
   "language": "python",
   "name": "python3"
  },
  "language_info": {
   "codemirror_mode": {
    "name": "ipython",
    "version": 3
   },
   "file_extension": ".py",
   "mimetype": "text/x-python",
   "name": "python",
   "nbconvert_exporter": "python",
   "pygments_lexer": "ipython3",
   "version": "3.7.4"
  }
 },
 "nbformat": 4,
 "nbformat_minor": 2
}
