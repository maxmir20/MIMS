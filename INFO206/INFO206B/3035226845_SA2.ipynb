{
 "cells": [
  {
   "cell_type": "code",
   "execution_count": 3,
   "metadata": {
    "scrolled": false
   },
   "outputs": [
    {
     "name": "stdout",
     "output_type": "stream",
     "text": [
      "[39, 9, 23, 34, 2, 28, 22, 24, 30]\n",
      "One more time!\n",
      "[9, 23, 34, 2, 28, 22, 24, 30, 39]\n",
      "One more time!\n",
      "[9, 23, 2, 28, 22, 24, 30, 34, 39]\n",
      "One more time!\n",
      "[9, 2, 23, 22, 24, 28, 30, 34, 39]\n",
      "One more time!\n",
      "[2, 9, 22, 23, 24, 28, 30, 34, 39]\n",
      "Sorted\n",
      "[2, 9, 22, 23, 24, 28, 30, 34, 39]\n"
     ]
    }
   ],
   "source": [
    "import random\n",
    "\n",
    "sort_list = []\n",
    "sort_list = random.sample(range(1,40), random.randrange(4,20))\n",
    "\n",
    "def bubble_sort(L):\n",
    "    print(L)\n",
    "    while True: #will continue until count == 0\n",
    "        count = 0\n",
    "        for i in range(len(L)-1):   #stops before last len because were comparing i and i+1     \n",
    "            #print(L[i], L[i+1])\n",
    "            if L[i] > L[i+1]: #compare\n",
    "                temp = L[i+1] #temp card shuffle trick\n",
    "                L[i+1] = L[i]\n",
    "                L[i] = temp\n",
    "                #print('swapped')\n",
    "                count+=1 #adds count to restart loop\n",
    "        if count == 0: #breaks out of loop if we don't ever swap\n",
    "            print('Sorted')\n",
    "            print(L)\n",
    "            break\n",
    "        else: #otherwise begin again\n",
    "            print('One more time!')\n",
    "            print(L)\n",
    "\n",
    "    \n",
    "bubble_sort(sort_list)\n",
    "\n"
   ]
  },
  {
   "cell_type": "markdown",
   "metadata": {},
   "source": [
    "Run-Time Complexity: \n",
    "The run-time complexity of a bubble sort is Quadratic (in other words, worst case it will need to run N^2 times). This is because if we are inside the for loop (to swap values from one end of the list to the other), then the worst case is if the largest number is in the first index position. This will cause the for loop to repeat for N-1 times.\n",
    "\n",
    "Outside of the for loop, we have the while loop, which will repeat until there is nothing out of place. In the event that the smallest value is located at the end of the list, then it will only move one step per iteration because the swap only works from left to right. This will run for N-1 times to sort it(since the last swap will switch the smallest value from second to first without having to call the first swap), but we will need to make another comparison at the end to check if it needs to keep running.\n",
    "\n",
    "Because the loops are nested inside each other it could potentially run N times for N times, in other words N^2"
   ]
  },
  {
   "cell_type": "code",
   "execution_count": null,
   "metadata": {},
   "outputs": [],
   "source": []
  }
 ],
 "metadata": {
  "kernelspec": {
   "display_name": "Python 3",
   "language": "python",
   "name": "python3"
  },
  "language_info": {
   "codemirror_mode": {
    "name": "ipython",
    "version": 3
   },
   "file_extension": ".py",
   "mimetype": "text/x-python",
   "name": "python",
   "nbconvert_exporter": "python",
   "pygments_lexer": "ipython3",
   "version": "3.7.4"
  }
 },
 "nbformat": 4,
 "nbformat_minor": 2
}
