{
 "cells": [
  {
   "cell_type": "code",
   "execution_count": 9,
   "metadata": {},
   "outputs": [
    {
     "name": "stdout",
     "output_type": "stream",
     "text": [
      "['a', 'b', 'c', 'd']\n",
      "['a', 'x', 'c', 'd']\n",
      "ax\n"
     ]
    }
   ],
   "source": [
    "def ha22(l):\n",
    "    for i in range(1,len(l)):\n",
    "        if l[i] == 2 and l[i-1] == 2:\n",
    "            return \"has22\"\n",
    "    return \"no22\"\n",
    "\n",
    "listb = [\"a\", \"b\", \"c\", \"d\"]\n",
    "print(listb)\n",
    "listb[1] = \"x\"\n",
    "print(listb)\n",
    "\n",
    "s = listb[0]+ listb[1]\n",
    "print(s)\n",
    "lista = [1, 2, 3, 45, 3, 3, 2, 52 ,5 ,35 ,6 ,2 ,6 ,2 ,2 ,5 ,6 ,4 ,3 ,6]\n",
    "#ha22(listb)\n",
    "#ha22(lista)\n"
   ]
  },
  {
   "cell_type": "code",
   "execution_count": null,
   "metadata": {},
   "outputs": [],
   "source": []
  }
 ],
 "metadata": {
  "kernelspec": {
   "display_name": "Python 3",
   "language": "python",
   "name": "python3"
  },
  "language_info": {
   "codemirror_mode": {
    "name": "ipython",
    "version": 3
   },
   "file_extension": ".py",
   "mimetype": "text/x-python",
   "name": "python",
   "nbconvert_exporter": "python",
   "pygments_lexer": "ipython3",
   "version": "3.6.8"
  }
 },
 "nbformat": 4,
 "nbformat_minor": 2
}
