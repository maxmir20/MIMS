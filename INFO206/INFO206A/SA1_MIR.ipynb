{
 "cells": [
  {
   "cell_type": "code",
   "execution_count": 167,
   "metadata": {
    "scrolled": true
   },
   "outputs": [
    {
     "name": "stdout",
     "output_type": "stream",
     "text": [
      "\\        /\n",
      " \\      / \n",
      "  \\----/  \n",
      "|\\ \\  / /|\n",
      "| \\ \\/ / |\n",
      "|  \\  /  |\n",
      "| \\ \\/ / |\n",
      "|  \\  /  |\n",
      "|   \\/   |\n",
      "    /\\    \n",
      "   /  \\   \n",
      "  /    \\  \n"
     ]
    }
   ],
   "source": [
    "\n",
    "print(\"\\\\\" + (' ' * 8) + \"/\" )#beginning of the upside down \"A\"\n",
    "print(' ' + \"\\\\\" + (' ' * 6) + \"/\" + ' ' )\n",
    "print('  ' + \"\\\\\" + ('-' * 4) + \"/\" + '  ' )\n",
    "print('|\\\\ ' + \"\\\\\" + (' ' * 2) + \"/\" + ' /|' )#beginning of the \"M\"\n",
    "print('| \\\\ ' + \"\\\\\"  + \"/\" + ' / |' )\n",
    "print('|  \\\\' + (' ' * 2) + '/  |' )\n",
    "print('| \\\\ \\\\'  + '/ / |' )#beginning of the \"X\"\n",
    "print('|  \\\\  '  + '/  |' )\n",
    "print('|   \\\\'  + '/   |' )\n",
    "print('    /'  + '\\\\    ' )\n",
    "print('   / '  + ' \\\\   ' )\n",
    "print('  /  '  + '  \\\\  ' )\n",
    "\n",
    "\n",
    "\n",
    "\n"
   ]
  },
  {
   "cell_type": "code",
   "execution_count": null,
   "metadata": {},
   "outputs": [],
   "source": []
  },
  {
   "cell_type": "code",
   "execution_count": 166,
   "metadata": {
    "scrolled": true
   },
   "outputs": [
    {
     "data": {
      "image/svg+xml": [
       "<?xml version=\"1.0\" encoding=\"UTF-8\"?>\n",
       "<svg xmlns=\"http://www.w3.org/2000/svg\" xmlns:xlink=\"http://www.w3.org/1999/xlink\"\n",
       "     width=\"300\" height=\"300\" viewBox=\"-150.0 -150.0 300 300\">\n",
       "<defs>\n",
       "</defs>\n",
       "<path d=\"M0,0 l0,-60 l40,-40 l30,30 l-10,10 l-20,-20 l-28,28 l0,40 l28,28 l28,-28 l0,-20 l-8,8 l0,10 l-20,20 l-20,-20 l0,-32 l20,-20 l20,20 l18,-18 l0,60 l-40,40 l-38,-40\" stroke-width=\"1\" stroke=\"black\" fill=\"#663399\" fill-opacity=\"0.5\" />\n",
       "<path d=\"M21,-46 L40,-30 Z\" stroke=\"black\" />\n",
       "<path d=\"M40,-30 L40,5 Z\" stroke=\"black\" />\n",
       "<path d=\"M40,-30 L59,-46 Z\" stroke=\"black\" />\n",
       "<text x=\"-4\" y=\"60\" font-size=\"22\">Nintendo</text>\n",
       "<text x=\"-12\" y=\"80\" font-size=\"22\">Gamecube</text>\n",
       "</svg>"
      ],
      "text/plain": [
       "<drawSvg.drawing.Drawing at 0x7f46c81296a0>"
      ]
     },
     "execution_count": 166,
     "metadata": {},
     "output_type": "execute_result"
    }
   ],
   "source": [
    "import drawSvg as draw\n",
    "\n",
    "d = draw.Drawing (300, 300, origin = 'center')\n",
    "\n",
    "p = draw.Path(stroke_width=1, stroke='black',\n",
    "              fill='#663399', fill_opacity=0.5)\n",
    "\n",
    "p.M(0,0)  # starts point at bottom left of left square\n",
    "p.l(0,60)  #draws left side left square\n",
    "p.l(40,40)  # draws left side top square\n",
    "p.l(30,-30) #draws top side of top square\n",
    "p.l(-10,-10) #adds width of line/moves to inner sides\n",
    "p.l(-20, 20) #draws inner top of top square\n",
    "p.l(-28,-28) #draws inner left side top square\n",
    "p.l(0,-40) #draws inner left side left square\n",
    "p.l(28,-28) #draws inner bottom side left square\n",
    "p.l(28, 28) #draws inner bottom side right square\n",
    "p.l(0,20) #draws the inner right side right square\n",
    "p.l(-8,-8) #draws the bridge to inner cube\n",
    "p.l(0,-10) #draws to the bottom right of the inner cube\n",
    "p.l(-20,-20) #draws the bottom right side of the inner cube\n",
    "p.l(-20,20) #draws the bottom left side of the inner cube\n",
    "p.l(0,32) #draws the left side of the inner cube\n",
    "p.l(20,20) #draws the top left side of the inner cube\n",
    "p.l(20,-20) #draws the top right side of the inner cube\n",
    "p.l(18,18) #draws the bridge to the right side of the right square\n",
    "p.l(0,-60) #draws the right side of the right square\n",
    "p.l(-40,-40) #draws bottom side of right square\n",
    "p.l(-38,40) #draws bottom side of left square\n",
    "\n",
    "d.append(p)\n",
    "\n",
    "#adds definition lines for inner cube\n",
    "d.append(draw.Lines(21,46,\n",
    "                    40, 30,\n",
    "                    close=True,\n",
    "                    stroke='black'))\n",
    "\n",
    "d.append(draw.Lines(40, 30,\n",
    "                    40, -5,\n",
    "                    close=True,\n",
    "                    stroke='black'))\n",
    "\n",
    "d.append(draw.Lines(40, 30,\n",
    "                    59, 46,\n",
    "                    close=True,\n",
    "                    stroke='black'))\n",
    "\n",
    "d.append(draw.Text('Nintendo', 22, -4, -60))\n",
    "d.append(draw.Text('Gamecube', 22, -12, -80))\n",
    "\n",
    "\n",
    "d\n"
   ]
  },
  {
   "cell_type": "code",
   "execution_count": null,
   "metadata": {},
   "outputs": [],
   "source": []
  },
  {
   "cell_type": "code",
   "execution_count": null,
   "metadata": {},
   "outputs": [],
   "source": []
  }
 ],
 "metadata": {
  "kernelspec": {
   "display_name": "Python 3",
   "language": "python",
   "name": "python3"
  },
  "language_info": {
   "codemirror_mode": {
    "name": "ipython",
    "version": 3
   },
   "file_extension": ".py",
   "mimetype": "text/x-python",
   "name": "python",
   "nbconvert_exporter": "python",
   "pygments_lexer": "ipython3",
   "version": "3.6.8"
  }
 },
 "nbformat": 4,
 "nbformat_minor": 2
}
