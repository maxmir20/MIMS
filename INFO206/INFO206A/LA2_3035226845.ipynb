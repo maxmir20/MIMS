{
 "cells": [
  {
   "cell_type": "code",
   "execution_count": 1,
   "metadata": {},
   "outputs": [
    {
     "ename": "ModuleNotFoundError",
     "evalue": "No module named 'drawSvg'",
     "output_type": "error",
     "traceback": [
      "\u001b[0;31m---------------------------------------------------------------------------\u001b[0m",
      "\u001b[0;31mModuleNotFoundError\u001b[0m                       Traceback (most recent call last)",
      "\u001b[0;32m<ipython-input-1-69890a68d719>\u001b[0m in \u001b[0;36m<module>\u001b[0;34m\u001b[0m\n\u001b[0;32m----> 1\u001b[0;31m \u001b[0;32mimport\u001b[0m \u001b[0mdrawSvg\u001b[0m \u001b[0;32mas\u001b[0m \u001b[0mdraw\u001b[0m\u001b[0;34m\u001b[0m\u001b[0;34m\u001b[0m\u001b[0m\n\u001b[0m\u001b[1;32m      2\u001b[0m \u001b[0;32mimport\u001b[0m \u001b[0mmath\u001b[0m\u001b[0;34m\u001b[0m\u001b[0;34m\u001b[0m\u001b[0m\n\u001b[1;32m      3\u001b[0m \u001b[0;32mimport\u001b[0m \u001b[0mrandom\u001b[0m\u001b[0;34m\u001b[0m\u001b[0;34m\u001b[0m\u001b[0m\n\u001b[1;32m      4\u001b[0m \u001b[0;34m\u001b[0m\u001b[0m\n\u001b[1;32m      5\u001b[0m \u001b[0mwindow_height\u001b[0m \u001b[0;34m=\u001b[0m \u001b[0;36m200\u001b[0m\u001b[0;34m\u001b[0m\u001b[0;34m\u001b[0m\u001b[0m\n",
      "\u001b[0;31mModuleNotFoundError\u001b[0m: No module named 'drawSvg'"
     ]
    }
   ],
   "source": [
    "import drawSvg as draw\n",
    "import math\n",
    "import random\n",
    "\n",
    "window_height = 200\n",
    "window_width = 200\n",
    "ball_count = 20\n",
    "ball_size = 4\n",
    "x = []\n",
    "y = []\n",
    "vx = []\n",
    "vy = []\n",
    "timestep = 1\n",
    "\n",
    "\n",
    "def generate_positions(): # used to populate the x, y, vx, and vy lists with random values\n",
    "    for i in range(0,ball_count): #iterates for the number of balls we're using in the simulation\n",
    "        x.extend([random.randint(1,window_width)])\n",
    "        y.extend([random.randint(1,window_height)])\n",
    "        vx.extend([random.uniform(-5,5)])\n",
    "        vy.extend([random.uniform(-5,5)])\n",
    "    \n",
    "def update_position(i):\n",
    "    \n",
    "    x[i] = x[i] + timestep*vx[i]\n",
    "    y[i] = y[i] + timestep*vy[i]    \n",
    "    cross_list = [] #list used to hold list of what indexes are matching (to see if balls are at the same location/\"colliding\")\n",
    "    \n",
    "    for l in range(len(x)): #tests list to see if there's overlap between balls\n",
    "        if int(x[l]) >= int(x[i] - ball_size) and int(x[l]) <= int(x[i] + ball_size) and int(y[l]) >= int(y[i] - ball_size) and int(y[l]) <= int(y[i] + ball_size):\n",
    "            cross_list.append(l) #pulls index numbers of elements in x that match our value. There should always be at least 1 in since we just set it \n",
    "    if len(cross_list) > 1: #checks if the cross_list is bigger than one (i.e there are several balls that share x and y coordinates) \n",
    "        for i in cross_list: # changes velocities and positions \n",
    "            vx[i] *= -1\n",
    "            x[i] = x[i] + timestep*vx[i]\n",
    "            vy[i] *= -1\n",
    "            y[i] = y[i] + timestep*vy[i]\n",
    "\n",
    "    if x[i] >= window_width or x[i] <= 0: #checks if a circle hits the left or right wall\n",
    "        vx[i] *= -1\n",
    "        x[i] = x[i] + timestep*vx[i]\n",
    "    if y[i] >= window_height or y[i] <= 0: #checks if a circle hits the top or bottom wall\n",
    "        vy[i] *= -1\n",
    "        y[i] = y[i] + timestep*vy[i]\n",
    "    \n",
    "    \n",
    "    \n",
    "def draw_ball(i):\n",
    "    d.append(draw.Circle(x[i], y[i], ball_size, fill='lime'))\n",
    "    return d\n",
    "\n",
    "def draw_frame():\n",
    "    for i in range(0,ball_count):\n",
    "        update_position(i)\n",
    "        draw_ball(i)\n",
    "    return d\n",
    "\n",
    "generate_positions() # creates the x,y,vx,vy positions\n",
    "\n",
    "with draw.animate_jupyter(draw_frame, delay=0.05) as anim:\n",
    "    while(True):\n",
    "        d = draw.Drawing(window_width, window_height, origin=(0,0) ) # erase canvas\n",
    "        d.append(draw.Rectangle(0,0,window_width,window_height, fill='black'))\n",
    "        anim.draw_frame() #it's showtime\n",
    "    "
   ]
  },
  {
   "cell_type": "code",
   "execution_count": null,
   "metadata": {},
   "outputs": [],
   "source": []
  },
  {
   "cell_type": "code",
   "execution_count": null,
   "metadata": {},
   "outputs": [],
   "source": []
  }
 ],
 "metadata": {
  "kernelspec": {
   "display_name": "Python 3",
   "language": "python",
   "name": "python3"
  },
  "language_info": {
   "codemirror_mode": {
    "name": "ipython",
    "version": 3
   },
   "file_extension": ".py",
   "mimetype": "text/x-python",
   "name": "python",
   "nbconvert_exporter": "python",
   "pygments_lexer": "ipython3",
   "version": "3.7.4"
  }
 },
 "nbformat": 4,
 "nbformat_minor": 2
}
