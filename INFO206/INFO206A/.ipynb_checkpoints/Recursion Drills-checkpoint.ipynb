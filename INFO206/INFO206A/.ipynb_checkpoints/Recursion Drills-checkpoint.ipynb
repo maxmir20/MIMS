{
 "cells": [
  {
   "cell_type": "code",
   "execution_count": null,
   "metadata": {},
   "outputs": [],
   "source": [
    "def sum_it(n): #Iterative version\n",
    "    sum = 0\n",
    "    i= 0\n",
    "    while i <= n:\n",
    "        sum += i\n",
    "        i += 1\n",
    "    return sum\n",
    "#sum_it(4)\n",
    "def sum_rec(n): #Recursive version\n",
    "    if n == 0:\n",
    "        return 0\n",
    "    else:\n",
    "        return n + sum_rec(n-1)\n",
    "sum_rec(13)\n",
    "#return the minimum element in a[]\n",
    "def findmin(a):\n",
    "    if len(a) == 1:\n",
    "        return a[0]\n",
    "    else:\n",
    "        if a[0] < findmin(a[1:]):\n",
    "            return a[0]\n",
    "        else:\n",
    "            return findmin(a[1:])\n",
    "a = [23,3,4,5]\n",
    "findmin(a)\n",
    "#return the sum of all elements in a[]\n",
    "def sum_el(a):\n",
    "    if a[1:] == []:\n",
    "        return a[0]\n",
    "    else:\n",
    "        return a[0] + sum_el(a[1:])\n",
    "    \n",
    "sum_el(a)\n",
    "#towers of hanoi \n",
    "def move_disk(disc_number, from_peg, to_peg):\n",
    "    print (\"move this from \" + from_peg +\" to \" + to_peg)\n",
    "def hanoi (n, start_peg, end_peg):\n",
    "    if n == 1:\n",
    "        move_disk(n,start_peg, end_peg)\n",
    "    else:\n",
    "        spare_peg = 6 - start_peg -end_peg # looks at the pegs and gives you the remaining one (since the pegs rn are 1,2,3)\n",
    "        solve_hanoi(n -1, start_peg, spare_peg) #recursive function that moves one less (in this case 2) to the spare peg\n",
    "        move_disk(n, start_peg, end_peg) #moves 3 over to end peg\n",
    "        solve hanoi(n-1, spare_peg, end_peg) # recursive function that moves one less (in this case 2) back to the end peg\n",
    "    hanoi(3,1,2) #moves 3 disks from post 1 to 2\n",
    "       hanoi(2,1,3) #move 2 disks from post 1 to 3\n",
    "           move(3,1,2) #move disks 3 from post 1 to 2\n",
    "               hanoi (2,3,2) #moves 2 disk from post 3 to 2"
   ]
  }
 ],
 "metadata": {
  "kernelspec": {
   "display_name": "Python 3",
   "language": "python",
   "name": "python3"
  },
  "language_info": {
   "codemirror_mode": {
    "name": "ipython",
    "version": 3
   },
   "file_extension": ".py",
   "mimetype": "text/x-python",
   "name": "python",
   "nbconvert_exporter": "python",
   "pygments_lexer": "ipython3",
   "version": "3.7.4"
  }
 },
 "nbformat": 4,
 "nbformat_minor": 2
}
