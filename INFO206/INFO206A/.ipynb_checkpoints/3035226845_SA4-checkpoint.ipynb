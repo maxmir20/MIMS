{
 "cells": [
  {
   "cell_type": "code",
   "execution_count": 9,
   "metadata": {},
   "outputs": [
    {
     "data": {
      "text/plain": [
       "22"
      ]
     },
     "execution_count": 9,
     "metadata": {},
     "output_type": "execute_result"
    }
   ],
   "source": [
    "'''\n",
    "    Write a recursive function that takes as input a list of integers and returns \n",
    "    the sum of all even numbers in the list. If the list is empty, return 0 (hint: this is your base case).\n",
    "\n",
    "    Write a recursive function that takes as input a string and returns True if \n",
    "    it is a palindrome and False if it is not. A string of length 0 or 1 is a palindrome. \n",
    "    A string of length greater than 1 is a palindrome if the first and last character are the same, \n",
    "    the second and second to last character are the same, etc. \n",
    "'''\n",
    "\n",
    "\n",
    "def sum_even(L):\n",
    "    sum_t = 0 #holds the sum of even numbers\n",
    "    if L == []: #if list is empty return base case\n",
    "        return 0 #ends recursive series\n",
    "    else:\n",
    "        if L[0]%2 == 0: #if current first element in list is even then:\n",
    "            sum_t += L[0] #add to sum even list\n",
    "        return sum_t + sum_even(L[1:]) #regardless of outcome, evaluated next element in the list \n",
    "\n",
    "\n",
    "    \n",
    "def pal_rec(S):\n",
    "    if len(S) <=1: #base case, if we get here then it's a palindrome and can return True\n",
    "        return True\n",
    "    else:\n",
    "        #print(S) #left this in if you want to see the string reduce to compare that it's working correctly\n",
    "        if S[0] == S[-1]: #evaluates last element is equal to first element\n",
    "            return pal_rec(S[1:-1]) #if so evaluate the next set of characters in the string\n",
    "        else:\n",
    "            return False #if its ever not equal then it means its not a palindrome and should be returned false\n",
    "        \n",
    "\n",
    "lista = [1,2,3,4,5,7,8,9,9,9,2,4,2]\n",
    "\n",
    "sum_even(lista)\n",
    "\n",
    "# stringa = \"madamimadam\"\n",
    "\n",
    "# pal_rec(stringa)"
   ]
  },
  {
   "cell_type": "code",
   "execution_count": null,
   "metadata": {},
   "outputs": [],
   "source": []
  }
 ],
 "metadata": {
  "kernelspec": {
   "display_name": "Python 3",
   "language": "python",
   "name": "python3"
  },
  "language_info": {
   "codemirror_mode": {
    "name": "ipython",
    "version": 3
   },
   "file_extension": ".py",
   "mimetype": "text/x-python",
   "name": "python",
   "nbconvert_exporter": "python",
   "pygments_lexer": "ipython3",
   "version": "3.7.4"
  }
 },
 "nbformat": 4,
 "nbformat_minor": 2
}
