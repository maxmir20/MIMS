{
 "cells": [
  {
   "cell_type": "code",
   "execution_count": 12,
   "metadata": {},
   "outputs": [
    {
     "name": "stdout",
     "output_type": "stream",
     "text": [
      "The file \"test.txt\" contains 133 lines; 1324 words; and 6700 characters.\n"
     ]
    }
   ],
   "source": [
    "import os\n",
    "\n",
    "\n",
    "def count_things(f):\n",
    "    file = open(f, 'r') #opens the file entered\n",
    "    #count for lines, words, characters\n",
    "    line_count = 0\n",
    "    word_count = 0\n",
    "    char_count = 0    \n",
    "    \n",
    "    for i in file: #reads each line\n",
    "        line_count+=1 #adds count\n",
    "        words = i.split() #creates a list of words for second for loop \n",
    "        word_count += len(words) #adds count\n",
    "        for i in words: #reads each word in line\n",
    "            char_count += len(i) #counts character of each word\n",
    "    print('The file \"' + f +'\" contains ' + str(line_count) + ' lines; ' + str(word_count) + ' words; and ' + str(char_count) + ' characters.') #returns final count\n",
    "\n",
    "count_things('test.txt')"
   ]
  },
  {
   "cell_type": "code",
   "execution_count": null,
   "metadata": {},
   "outputs": [],
   "source": []
  }
 ],
 "metadata": {
  "kernelspec": {
   "display_name": "Python 3",
   "language": "python",
   "name": "python3"
  },
  "language_info": {
   "codemirror_mode": {
    "name": "ipython",
    "version": 3
   },
   "file_extension": ".py",
   "mimetype": "text/x-python",
   "name": "python",
   "nbconvert_exporter": "python",
   "pygments_lexer": "ipython3",
   "version": "3.6.8"
  }
 },
 "nbformat": 4,
 "nbformat_minor": 2
}
