{
 "cells": [
  {
   "cell_type": "code",
   "execution_count": null,
   "metadata": {},
   "outputs": [],
   "source": [
    "def sum_it(n): #Iterative version\n",
    "    sum = 0\n",
    "    i= 0\n",
    "    while i <= n:\n",
    "        sum += i\n",
    "        i += 1\n",
    "    return sum\n",
    "#sum_it(4)\n",
    "def sum_rec(n): #Recursive version\n",
    "    if n == 0:\n",
    "        return 0\n",
    "    else:\n",
    "        return n + sum_rec(n-1)\n",
    "sum_rec(13)\n",
    "#return the minimum element in a[]\n",
    "def findmin(a):\n",
    "    if len(a) == 1:\n",
    "        return a[0]\n",
    "    else:\n",
    "        if a[0] < findmin(a[1:]):\n",
    "            return a[0]\n",
    "        else:\n",
    "            return findmin(a[1:])\n",
    "a = [23,3,4,5]\n",
    "findmin(a)\n",
    "#return the sum of all elements in a[]\n",
    "def sum_el(a):\n",
    "    if a[1:] == []:\n",
    "        return a[0]\n",
    "    else:\n",
    "        return a[0] + sum_el(a[1:])\n",
    "    \n",
    "sum_el(a)\n",
    "#towers of hanoi \n",
    "def move_disk(disc_number, from_peg, to_peg):\n",
    "    print (\"move this from \" + from_peg +\" to \" + to_peg)\n",
    "def hanoi (n, start_peg, end_peg):\n",
    "    if n == 1:\n",
    "        move_disk(n,start_peg, end_peg)\n",
    "    else:\n",
    "        spare_peg = 6 - start_peg -end_peg # looks at the pegs and gives you the remaining one (since the pegs rn are 1,2,3)\n",
    "        solve_hanoi(n -1, start_peg, spare_peg) #recursive function that moves one less (in this case 2) to the spare peg\n",
    "        move_disk(n, start_peg, end_peg) #moves 3 over to end peg\n",
    "        solve hanoi(n-1, spare_peg, end_peg) # recursive function that moves one less (in this case 2) back to the end peg\n",
    "    hanoi(3,1,2) #moves 3 disks from post 1 to 2\n",
    "       hanoi(2,1,3) #move 2 disks from post 1 to 3\n",
    "           move(3,1,2) #move disks 3 from post 1 to 2\n",
    "               hanoi (2,3,2) #moves 2 disk from post 3 to 2\n",
    "\n",
    "                \n",
    "                \n",
    "                \n",
    "#Given a set of characters and a positive integer k, print all possible strings of length k \n",
    "#that can be formed from the given set.\n",
    "\n",
    "\n"
   ]
  },
  {
   "cell_type": "code",
   "execution_count": 5,
   "metadata": {},
   "outputs": [
    {
     "data": {
      "text/plain": [
       "36"
      ]
     },
     "execution_count": 5,
     "metadata": {},
     "output_type": "execute_result"
    }
   ],
   "source": [
    "def sum_even(L):\n",
    "    \n",
    "    if len(L) ==0:\n",
    "        return 0\n",
    "    elif L[0]%2 ==0:\n",
    "        return L[0] + sum_even(L[1:])\n",
    "    else: \n",
    "        return sum_even(L[1:])\n",
    "     \n",
    "\n",
    "sum_even([1,2,3,4,5,6,9,9,9,9,9, 6,6,6,6,7])"
   ]
  },
  {
   "cell_type": "code",
   "execution_count": 9,
   "metadata": {},
   "outputs": [
    {
     "data": {
      "text/plain": [
       "False"
      ]
     },
     "execution_count": 9,
     "metadata": {},
     "output_type": "execute_result"
    }
   ],
   "source": [
    "def palindrome(s):\n",
    "    if len(s) == 0:\n",
    "        return True\n",
    "    else:\n",
    "        return (s[0] == s[-1]) and palindrome(s[1:-1])\n",
    "\n",
    "palindrome('otao')"
   ]
  },
  {
   "cell_type": "code",
   "execution_count": null,
   "metadata": {},
   "outputs": [],
   "source": []
  }
 ],
 "metadata": {
  "kernelspec": {
   "display_name": "Python 3",
   "language": "python",
   "name": "python3"
  },
  "language_info": {
   "codemirror_mode": {
    "name": "ipython",
    "version": 3
   },
   "file_extension": ".py",
   "mimetype": "text/x-python",
   "name": "python",
   "nbconvert_exporter": "python",
   "pygments_lexer": "ipython3",
   "version": "3.7.4"
  }
 },
 "nbformat": 4,
 "nbformat_minor": 2
}
