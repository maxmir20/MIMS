{
 "cells": [
  {
   "cell_type": "markdown",
   "metadata": {},
   "source": [
    "Create a it's 5 o clock somewhere program "
   ]
  },
  {
   "cell_type": "code",
   "execution_count": 25,
   "metadata": {},
   "outputs": [
    {
     "name": "stdout",
     "output_type": "stream",
     "text": [
      "It's 5'O clock in Vanuatu! Drink up!\n"
     ]
    }
   ],
   "source": [
    "# step 1, get time and location (ideally timezone)\n",
    "\n",
    "import datetime\n",
    "import time\n",
    "\n",
    "gmt = datetime.datetime.utcnow()\n",
    "gmt.hour\n",
    "\n",
    "#absolutely terrible hardcoded list that holds famous cities in each time zone and is used to return \n",
    "famous_city = [[-12,\"Tonga\"],[-11,\"Kiribati\"],[-10,\"Hawaii\"],[-9,\"Anchorage\"],[-8,\"San Francisco\"],[-7,\"Denver\"],[-6,\"Houston\"],[-5,\"New York City\"],[-4,\"Puerto Rico\"],[-3,\"Rio\"],[-2,\"Denmark Strait\"],[-1,\"The Azores\"],[0,\"London\"], \n",
    "               [1,\"Paris\"],[2,\"Cairo\"],[3,\"Istanbul\"],[4,\"Oman\"],[5,\"Karachi\"],[6,\"Bangladesh\"],[7,\"Bangkok\"],[8,\"Beijing\"],[9,\"Tokyo\"],[10,\"Sydney\"],[11,\"Vanuatu\"],[12,\"Auckland\"]]\n",
    "\n",
    "\n",
    "def somewhere():\n",
    "    drink_up = \"Nowhere\"\n",
    "    \n",
    "    for i in range(len(famous_city)):\n",
    "        #print((gmt.hour + famous_city[i][0])%24, (gmt.minute)) #range will be from -12:36\n",
    "        if (gmt.hour + famous_city[i][0])%24  == 17: #and gmt.minute == 48: # only gives utc + # not the actual time\n",
    "            drink_up = famous_city[i][1]            \n",
    "    return drink_up\n",
    "\n",
    "\n",
    "if (somewhere() != \"Nowhere\"):\n",
    "    print(\"It's 5'O clock in \" + somewhere() + \"! Drink up!\")\n",
    "else:\n",
    "    print(\"Hold it in, bud\")\n",
    "\n",
    "    \n",
    "# step 2, compare against GMT +- #\n",
    "\n",
    "#step 3, included add on for DST and Non-standard times"
   ]
  },
  {
   "cell_type": "code",
   "execution_count": null,
   "metadata": {},
   "outputs": [],
   "source": []
  },
  {
   "cell_type": "code",
   "execution_count": null,
   "metadata": {},
   "outputs": [],
   "source": []
  }
 ],
 "metadata": {
  "kernelspec": {
   "display_name": "Python 3",
   "language": "python",
   "name": "python3"
  },
  "language_info": {
   "codemirror_mode": {
    "name": "ipython",
    "version": 3
   },
   "file_extension": ".py",
   "mimetype": "text/x-python",
   "name": "python",
   "nbconvert_exporter": "python",
   "pygments_lexer": "ipython3",
   "version": "3.7.4"
  }
 },
 "nbformat": 4,
 "nbformat_minor": 2
}
