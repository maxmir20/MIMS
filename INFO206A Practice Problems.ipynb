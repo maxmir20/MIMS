{
 "cells": [
  {
   "cell_type": "code",
   "execution_count": 5,
   "metadata": {},
   "outputs": [
    {
     "data": {
      "text/plain": [
       "False"
      ]
     },
     "execution_count": 5,
     "metadata": {},
     "output_type": "execute_result"
    }
   ],
   "source": [
    "def search_LL(LL, x):\n",
    "    for i in LL:\n",
    "        if x in i:\n",
    "            return True\n",
    "    return False\n",
    "\n",
    "TestL = [[1,3,2], [5,4], [], [6,9,8,7]]\n",
    "\n",
    "search_LL(TestL, )"
   ]
  },
  {
   "cell_type": "code",
   "execution_count": 24,
   "metadata": {},
   "outputs": [
    {
     "name": "stdout",
     "output_type": "stream",
     "text": [
      "jack is 21 years old and 170 cm tall\n",
      "jill is 23 years old and 140 cm tall\n"
     ]
    }
   ],
   "source": [
    "class Human:\n",
    "    def __init__(self, name, height = 90, age = 0):\n",
    "        self.name = name\n",
    "        self.height = height\n",
    "        self.age = age\n",
    "    \n",
    "    def increase_age(self):\n",
    "        self.age += 1\n",
    "    \n",
    "    def increase_height(self):\n",
    "        self.height += 5\n",
    "    \n",
    "    def grow(self):\n",
    "        self.increase_age()\n",
    "        self.increase_height()\n",
    "        \n",
    "    def __str__(self):\n",
    "        return self.name + ' is ' + str(self.age) + ' years old and ' + str(self.height) + ' cm tall'\n",
    "        \n",
    "        \n",
    "driver1 = Human('jack', 120, 11)\n",
    "driver2 = Human('jill', age = 13)\n",
    "for i in range(10):\n",
    "    driver1.grow()\n",
    "    driver2.grow()\n",
    "\n",
    "print(driver1)\n",
    "print(driver2)"
   ]
  },
  {
   "cell_type": "code",
   "execution_count": 27,
   "metadata": {},
   "outputs": [
    {
     "data": {
      "text/plain": [
       "True"
      ]
     },
     "execution_count": 27,
     "metadata": {},
     "output_type": "execute_result"
    }
   ],
   "source": [
    "def abba(s):\n",
    "    if len(s) == 0:\n",
    "        return True\n",
    "    else:\n",
    "        return (s[0] == 'a' or s[0] =='b') and abba(s[1:])  \n",
    "\n",
    "\n",
    "abba('abbaabaababb')"
   ]
  },
  {
   "cell_type": "code",
   "execution_count": 22,
   "metadata": {},
   "outputs": [
    {
     "name": "stdout",
     "output_type": "stream",
     "text": [
      "100\n"
     ]
    }
   ],
   "source": [
    "class Ball:\n",
    "    def __init__(self,x,y):\n",
    "        self.x = x\n",
    "        self.y = y\n",
    "    def __str__(self):\n",
    "        return str(self.x)\n",
    "\n",
    "B = Ball(200,200)\n",
    "C = B\n",
    "C.x = 100\n",
    "print(B) "
   ]
  },
  {
   "cell_type": "code",
   "execution_count": 34,
   "metadata": {},
   "outputs": [
    {
     "data": {
      "text/plain": [
       "0"
      ]
     },
     "execution_count": 34,
     "metadata": {},
     "output_type": "execute_result"
    }
   ],
   "source": [
    "def count(llist):\n",
    "    if llist == []:\n",
    "        return 0\n",
    "    elif llist[0]< 0:\n",
    "        return 1 + count(llist[1:])\n",
    "    else: \n",
    "        return count(llist[1:])\n",
    "        \n",
    "llist = [1,2,3,4,5]\n",
    "llist2 = [-1,2,-3,4,-5]      \n",
    "                         \n",
    "count(llist)"
   ]
  },
  {
   "cell_type": "code",
   "execution_count": null,
   "metadata": {},
   "outputs": [],
   "source": []
  }
 ],
 "metadata": {
  "kernelspec": {
   "display_name": "Python 3",
   "language": "python",
   "name": "python3"
  },
  "language_info": {
   "codemirror_mode": {
    "name": "ipython",
    "version": 3
   },
   "file_extension": ".py",
   "mimetype": "text/x-python",
   "name": "python",
   "nbconvert_exporter": "python",
   "pygments_lexer": "ipython3",
   "version": "3.7.4"
  }
 },
 "nbformat": 4,
 "nbformat_minor": 2
}
