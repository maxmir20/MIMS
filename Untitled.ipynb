{
 "cells": [
  {
   "cell_type": "code",
   "execution_count": 14,
   "metadata": {},
   "outputs": [
    {
     "name": "stdout",
     "output_type": "stream",
     "text": [
      "Brutalist\n",
      "dumb\n",
      "384 meters^2\n"
     ]
    },
    {
     "data": {
      "text/plain": [
       "{'red': 2, 'blue': 3, 'green': 1}"
      ]
     },
     "execution_count": 14,
     "metadata": {},
     "output_type": "execute_result"
    }
   ],
   "source": [
    "# def prim_factor(num):\n",
    "#     prime_list = []\n",
    "#     eval_number = []\n",
    "#     for \n",
    "#         if eval_number%i == 0 and i != \n",
    "#         eval_number = [i, ]\n",
    "\n",
    "# for i in range(,1)\n",
    "\n",
    "class House:\n",
    "    def __init__(self, width, height, style, windows):\n",
    "        self.width = width\n",
    "        self.height = height\n",
    "        self.style = style\n",
    "        self.windows = windows\n",
    "        \n",
    "    def myDimensions(self):\n",
    "        return str(self.width * self.height) + \" meters^2\"\n",
    "myHouse = House(12, 32, \"Brutalist\", 1)\n",
    "yourHouse = House(12,32,\"dumb\", 1)\n",
    "\n",
    "print(myHouse.style)\n",
    "print(yourHouse.style)\n",
    "print(yourHouse.myDimensions())\n",
    "\n",
    "\n",
    "from collections import defaultdict\n",
    "\n",
    "class Counter:\n",
    "    def __init__ (self, input_list):\n",
    "        self.input_list = input_list\n",
    "    \n",
    "    def count(self):\n",
    "        count = {}\n",
    "        for i in self.input_list:\n",
    "            count[i] = count.setdefault(i, 0) + 1\n",
    "        return count\n",
    "    \n",
    "myCounter = Counter(['red', 'blue', 'red', 'green', 'blue', 'blue'])\n",
    "myCounter.count()\n",
    "    \n"
   ]
  },
  {
   "cell_type": "code",
   "execution_count": null,
   "metadata": {},
   "outputs": [],
   "source": [
    "class Student:\n",
    "    def __init__ (self, name, hometown):\n",
    "        self.grades = grades\n",
    "        self.hometown = hometown\n",
    "    \n",
    "    def "
   ]
  }
 ],
 "metadata": {
  "kernelspec": {
   "display_name": "Python 3",
   "language": "python",
   "name": "python3"
  },
  "language_info": {
   "codemirror_mode": {
    "name": "ipython",
    "version": 3
   },
   "file_extension": ".py",
   "mimetype": "text/x-python",
   "name": "python",
   "nbconvert_exporter": "python",
   "pygments_lexer": "ipython3",
   "version": "3.7.4"
  }
 },
 "nbformat": 4,
 "nbformat_minor": 2
}
