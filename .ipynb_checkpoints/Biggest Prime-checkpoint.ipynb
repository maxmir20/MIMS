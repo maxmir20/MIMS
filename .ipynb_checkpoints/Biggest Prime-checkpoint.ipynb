{
 "cells": [
  {
   "cell_type": "code",
   "execution_count": 14,
   "metadata": {},
   "outputs": [
    {
     "name": "stdout",
     "output_type": "stream",
     "text": [
      "Brutalist\n",
      "dumb\n",
      "384 meters^2\n"
     ]
    },
    {
     "data": {
      "text/plain": [
       "{'red': 2, 'blue': 3, 'green': 1}"
      ]
     },
     "execution_count": 14,
     "metadata": {},
     "output_type": "execute_result"
    }
   ],
   "source": [
    "#sieve prime numbers\n",
    "# https://projecteuler.net/problem=3\n",
    "def primetest(y):\n",
    "    i= 3\n",
    "    Bigprime = []\n",
    "    while i < y/2:\n",
    "        #print (i)\n",
    "        if y%i == 0 and i not in Bigprime:\n",
    "            Bigprime.append(i)\n",
    "            Bigprime.append(int(y/i))\n",
    "        if i%10 == 3:\n",
    "            i += 6\n",
    "        else:\n",
    "            i += 2\n",
    "    y = 2 \n",
    "    Bigprime.sort()\n",
    "    print(Bigprime)\n",
    "      \n",
    "    \n",
    "    index=0\n",
    "    while index<len(Bigprime):\n",
    "        print(Bigprime[index])\n",
    "        if Bigprime[-1]%Bigprime[index] == 0 and Bigprime[-1] != Bigprime[index]:\n",
    "            print(Bigprime[-1])\n",
    "            Bigprime.pop(-1) #knock off last value\n",
    "            index = 0\n",
    "        else:\n",
    "            index += 1\n",
    "\n",
    "    print(Bigprime[-1])\n",
    "\n",
    "    #print(Bigprime)\n",
    "    \n",
    "def primetest2(y):\n",
    "    i= 3\n",
    "    Bigprime = []\n",
    "    while i < y/2:\n",
    "        print (i)\n",
    "        if y%i == 0 and i not in Bigprime:\n",
    "            Bigprime.append(i)\n",
    "            Bigprime.append(int(y/i))\n",
    "        i += 2\n",
    "    y = 2 \n",
    "    Bigprime.sort()\n",
    "    print(Bigprime) \n",
    "    \n",
    "    index=0\n",
    "    while index<len(Bigprime):\n",
    "        print(Bigprime[index])\n",
    "        if Bigprime[-1]%Bigprime[index] == 0 and Bigprime[-1] != Bigprime[index]:\n",
    "            print(Bigprime[-1])\n",
    "            Bigprime.pop(-1) #knock off last value\n",
    "            index = 0\n",
    "        else:\n",
    "            index += 1\n",
    "\n",
    "    print(Bigprime[-1])\n",
    "\n",
    "    #print(Bigprime)\n",
    "primetest(51475143)"
   ]
  },
  {
   "cell_type": "code",
   "execution_count": null,
   "metadata": {},
   "outputs": [],
   "source": [
    "class Student:\n",
    "    def __init__ (self, name, hometown):\n",
    "        self.grades = grades\n",
    "        self.hometown = hometown\n",
    "    \n",
    "    def "
   ]
  }
 ],
 "metadata": {
  "kernelspec": {
   "display_name": "Python 3",
   "language": "python",
   "name": "python3"
  },
  "language_info": {
   "codemirror_mode": {
    "name": "ipython",
    "version": 3
   },
   "file_extension": ".py",
   "mimetype": "text/x-python",
   "name": "python",
   "nbconvert_exporter": "python",
   "pygments_lexer": "ipython3",
   "version": "3.6.8"
  }
 },
 "nbformat": 4,
 "nbformat_minor": 2
}
