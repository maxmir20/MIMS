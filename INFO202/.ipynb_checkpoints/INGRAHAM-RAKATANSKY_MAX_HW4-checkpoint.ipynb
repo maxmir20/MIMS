{
 "cells": [
  {
   "cell_type": "markdown",
   "metadata": {
    "collapsed": true
   },
   "source": [
    "# HW4 - Implement an Inverted Index#"
   ]
  },
  {
   "cell_type": "markdown",
   "metadata": {},
   "source": [
    "### Before You Start\n",
    "For this problem set, you should download INF0202-HW4.ipynb from bCourses. Create a local copy of the notebook and rename it LASTNAME_FIRSTNAME-HW4.ipynb. Then edit your renamed file directly in your browser by typing:\n",
    "```\n",
    "jupyter notebook <name_of_downloaded_file>\n",
    "```"
   ]
  },
  {
   "cell_type": "code",
   "execution_count": 31,
   "metadata": {},
   "outputs": [],
   "source": [
    "import numpy as np\n",
    "import pandas as pd\n",
    "import nltk\n",
    "import matplotlib.pyplot as plt\n",
    "from sklearn import feature_extraction\n",
    "\n",
    "from nltk import NaiveBayesClassifier\n",
    "from nltk.tokenize import word_tokenize\n",
    "from itertools import chain\n",
    "from sklearn.feature_extraction.text import CountVectorizer\n",
    "\n",
    "\n",
    "from sklearn.model_selection import train_test_split\n"
   ]
  },
  {
   "cell_type": "markdown",
   "metadata": {},
   "source": [
    "### Working in a group?\n",
    "List the names of other students with whom you worked on this problem set:\n"
   ]
  },
  {
   "cell_type": "code",
   "execution_count": 3,
   "metadata": {
    "collapsed": true
   },
   "outputs": [],
   "source": [
    "# names here"
   ]
  },
  {
   "cell_type": "markdown",
   "metadata": {},
   "source": [
    "### Introduction to the assignment\n",
    "\n",
    "For this assignment, you will be creating a search engine using an inverted index. The goal is to enable the user to find all movies that match a query.\n",
    "\n",
    "##### Use the following commands to load the dataset:"
   ]
  },
  {
   "cell_type": "code",
   "execution_count": 32,
   "metadata": {
    "scrolled": false
   },
   "outputs": [],
   "source": [
    "# load dataset\n",
    "imdb = pd.read_csv(\"IMDB_movies_full.csv\", low_memory=False, encoding = \"ISO-8859-1\")"
   ]
  },
  {
   "cell_type": "code",
   "execution_count": 33,
   "metadata": {},
   "outputs": [
    {
     "data": {
      "text/html": [
       "<div>\n",
       "<style scoped>\n",
       "    .dataframe tbody tr th:only-of-type {\n",
       "        vertical-align: middle;\n",
       "    }\n",
       "\n",
       "    .dataframe tbody tr th {\n",
       "        vertical-align: top;\n",
       "    }\n",
       "\n",
       "    .dataframe thead th {\n",
       "        text-align: right;\n",
       "    }\n",
       "</style>\n",
       "<table border=\"1\" class=\"dataframe\">\n",
       "  <thead>\n",
       "    <tr style=\"text-align: right;\">\n",
       "      <th></th>\n",
       "      <th>Rank</th>\n",
       "      <th>Title</th>\n",
       "      <th>Genre</th>\n",
       "      <th>Description</th>\n",
       "      <th>Director</th>\n",
       "      <th>Actors</th>\n",
       "      <th>Year</th>\n",
       "      <th>Runtime (Minutes)</th>\n",
       "      <th>Rating</th>\n",
       "      <th>Votes</th>\n",
       "      <th>Revenue (Millions)</th>\n",
       "      <th>Metascore</th>\n",
       "    </tr>\n",
       "  </thead>\n",
       "  <tbody>\n",
       "    <tr>\n",
       "      <th>0</th>\n",
       "      <td>1</td>\n",
       "      <td>Guardians of the Galaxy</td>\n",
       "      <td>Action,Adventure,Sci-Fi</td>\n",
       "      <td>A group of intergalactic criminals are forced ...</td>\n",
       "      <td>James Gunn</td>\n",
       "      <td>Chris Pratt, Vin Diesel, Bradley Cooper, Zoe S...</td>\n",
       "      <td>2014</td>\n",
       "      <td>121</td>\n",
       "      <td>8.1</td>\n",
       "      <td>757074</td>\n",
       "      <td>333.13</td>\n",
       "      <td>76.0</td>\n",
       "    </tr>\n",
       "    <tr>\n",
       "      <th>1</th>\n",
       "      <td>2</td>\n",
       "      <td>Prometheus</td>\n",
       "      <td>Adventure,Mystery,Sci-Fi</td>\n",
       "      <td>Following clues to the origin of mankind, a te...</td>\n",
       "      <td>Ridley Scott</td>\n",
       "      <td>Noomi Rapace, Logan Marshall-Green, Michael Fa...</td>\n",
       "      <td>2012</td>\n",
       "      <td>124</td>\n",
       "      <td>7.0</td>\n",
       "      <td>485820</td>\n",
       "      <td>126.46</td>\n",
       "      <td>65.0</td>\n",
       "    </tr>\n",
       "    <tr>\n",
       "      <th>2</th>\n",
       "      <td>3</td>\n",
       "      <td>Split</td>\n",
       "      <td>Horror,Thriller</td>\n",
       "      <td>Three girls are kidnapped by a man with a diag...</td>\n",
       "      <td>M. Night Shyamalan</td>\n",
       "      <td>James McAvoy, Anya Taylor-Joy, Haley Lu Richar...</td>\n",
       "      <td>2016</td>\n",
       "      <td>117</td>\n",
       "      <td>7.3</td>\n",
       "      <td>157606</td>\n",
       "      <td>138.12</td>\n",
       "      <td>62.0</td>\n",
       "    </tr>\n",
       "    <tr>\n",
       "      <th>3</th>\n",
       "      <td>4</td>\n",
       "      <td>Sing</td>\n",
       "      <td>Animation,Comedy,Family</td>\n",
       "      <td>In a city of humanoid animals, a hustling thea...</td>\n",
       "      <td>Christophe Lourdelet</td>\n",
       "      <td>Matthew McConaughey,Reese Witherspoon, Seth Ma...</td>\n",
       "      <td>2016</td>\n",
       "      <td>108</td>\n",
       "      <td>7.2</td>\n",
       "      <td>60545</td>\n",
       "      <td>270.32</td>\n",
       "      <td>59.0</td>\n",
       "    </tr>\n",
       "    <tr>\n",
       "      <th>4</th>\n",
       "      <td>5</td>\n",
       "      <td>Suicide Squad</td>\n",
       "      <td>Action,Adventure,Fantasy</td>\n",
       "      <td>A secret government agency recruits some of th...</td>\n",
       "      <td>David Ayer</td>\n",
       "      <td>Will Smith, Jared Leto, Margot Robbie, Viola D...</td>\n",
       "      <td>2016</td>\n",
       "      <td>123</td>\n",
       "      <td>6.2</td>\n",
       "      <td>393727</td>\n",
       "      <td>325.02</td>\n",
       "      <td>40.0</td>\n",
       "    </tr>\n",
       "  </tbody>\n",
       "</table>\n",
       "</div>"
      ],
      "text/plain": [
       "   Rank                    Title                     Genre  \\\n",
       "0     1  Guardians of the Galaxy   Action,Adventure,Sci-Fi   \n",
       "1     2               Prometheus  Adventure,Mystery,Sci-Fi   \n",
       "2     3                    Split           Horror,Thriller   \n",
       "3     4                     Sing   Animation,Comedy,Family   \n",
       "4     5            Suicide Squad  Action,Adventure,Fantasy   \n",
       "\n",
       "                                         Description              Director  \\\n",
       "0  A group of intergalactic criminals are forced ...            James Gunn   \n",
       "1  Following clues to the origin of mankind, a te...          Ridley Scott   \n",
       "2  Three girls are kidnapped by a man with a diag...    M. Night Shyamalan   \n",
       "3  In a city of humanoid animals, a hustling thea...  Christophe Lourdelet   \n",
       "4  A secret government agency recruits some of th...            David Ayer   \n",
       "\n",
       "                                              Actors  Year  Runtime (Minutes)  \\\n",
       "0  Chris Pratt, Vin Diesel, Bradley Cooper, Zoe S...  2014                121   \n",
       "1  Noomi Rapace, Logan Marshall-Green, Michael Fa...  2012                124   \n",
       "2  James McAvoy, Anya Taylor-Joy, Haley Lu Richar...  2016                117   \n",
       "3  Matthew McConaughey,Reese Witherspoon, Seth Ma...  2016                108   \n",
       "4  Will Smith, Jared Leto, Margot Robbie, Viola D...  2016                123   \n",
       "\n",
       "   Rating   Votes  Revenue (Millions)  Metascore  \n",
       "0     8.1  757074              333.13       76.0  \n",
       "1     7.0  485820              126.46       65.0  \n",
       "2     7.3  157606              138.12       62.0  \n",
       "3     7.2   60545              270.32       59.0  \n",
       "4     6.2  393727              325.02       40.0  "
      ]
     },
     "execution_count": 33,
     "metadata": {},
     "output_type": "execute_result"
    }
   ],
   "source": [
    "imdb.head()"
   ]
  },
  {
   "cell_type": "markdown",
   "metadata": {},
   "source": [
    "First, we need to process our movie descriptions like we did in previous assignments. Then, all movies will be assigned numbers according to their position in the list: the first is movie 0, the second is number 1, and so on.\n",
    "\n",
    "If you search for the word \"in\", the search engine should report that this word appears in the description of movie X and movie Y but not in movie C. A simple data structure, called an inverted index, supports such searches. An inverted index for our dataset will map each word appearing in the movie descriptions to the set of numbers of movies whose descriptions contain the word. \n",
    "\n",
    "We will be using a Python dictionary to do so. Each key is a word appearing in the database, and the corresponding value is the set of numbers of movies containing the word. "
   ]
  },
  {
   "cell_type": "markdown",
   "metadata": {},
   "source": [
    "### Formatting Our Data"
   ]
  },
  {
   "cell_type": "markdown",
   "metadata": {},
   "source": [
    "**Task 1:** Convert movie descriptions into a list of strings. Display first 5 items."
   ]
  },
  {
   "cell_type": "code",
   "execution_count": 34,
   "metadata": {},
   "outputs": [
    {
     "data": {
      "text/plain": [
       "['A group of intergalactic criminals are forced to work together to stop a fanatical warrior from taking control of the universe.',\n",
       " 'Following clues to the origin of mankind, a team finds a structure on a distant moon, but they soon realize they are not alone.',\n",
       " 'Three girls are kidnapped by a man with a diagnosed 23 distinct personalities. They must try to escape before the apparent emergence of a frightful new 24th.',\n",
       " \"In a city of humanoid animals, a hustling theater impresario's attempt to save his theater with a singing competition becomes grander than he anticipates even as its finalists' find that their lives will never be the same.\",\n",
       " 'A secret government agency recruits some of the most dangerous incarcerated super-villains to form a defensive task force. Their first mission: save the world from the apocalypse.']"
      ]
     },
     "execution_count": 34,
     "metadata": {},
     "output_type": "execute_result"
    }
   ],
   "source": [
    "description_list = list(imdb['Description'])\n",
    "description_list[0:5]\n"
   ]
  },
  {
   "cell_type": "markdown",
   "metadata": {},
   "source": [
    "### Making Our Inverted Index"
   ]
  },
  {
   "cell_type": "markdown",
   "metadata": {},
   "source": [
    "**Task 2:** Write a function `make_inverted_index(strlist)` that, given a list of strings (movie descriptions), returns a dictionary that maps each word to the set consisting of the movie numbers of movies' descriptions in which that words appears. Details on the function's inputs and outputs are in the doc string below. "
   ]
  },
  {
   "cell_type": "code",
   "execution_count": 36,
   "metadata": {},
   "outputs": [
    {
     "name": "stdout",
     "output_type": "stream",
     "text": [
      "{'of': set(), 'hello': set(), 'world': set(), 'hellolot': set(), 'cat': set(), 'cats': set()}\n"
     ]
    },
    {
     "data": {
      "text/plain": [
       "{'of': {3},\n",
       " 'hello': {0, 1, 2},\n",
       " 'world': {0},\n",
       " 'hellolot': {3},\n",
       " 'cat': {2},\n",
       " 'cats': {3}}"
      ]
     },
     "execution_count": 36,
     "metadata": {},
     "output_type": "execute_result"
    }
   ],
   "source": [
    "def make_inverted_index(strlist):\n",
    "    \"\"\"\n",
    "    Input: a list of movies descriptions as strings\n",
    "    Output: a dictionary that maps each word in any document to the set consisting of the\n",
    "            movie ids (ie, the index in the strlist) for all movie descriptions containing the word.\n",
    "    \n",
    "    Example:\n",
    "    >>> make_inverted_index(['hello world','hello','hello cat','hellolot of cats'])\n",
    "    >>> {'hello': {0, 1, 2}, 'cat': {2}, 'of': {3}, 'world': {0}, 'cats': {3}, 'hellolot': {3}}\n",
    "    \"\"\"\n",
    "    \n",
    "    # find all unique words in strlist\n",
    "    long_str = \" \".join(strlist)\n",
    "    all_words = word_tokenize(long_str.lower())\n",
    "    unique_words = set(all_words)\n",
    "    \n",
    "    # create dictionary of sets to return \n",
    "    inverted_index = {}\n",
    "    for i in unique_words:\n",
    "        inverted_index[i] = set()\n",
    "    print  (inverted_index)  \n",
    "    # loop through strlist and add index values to each set\n",
    "    for i in range(len(strlist)):\n",
    "\n",
    "        for j in strlist[i].split():\n",
    "            if j in inverted_index:\n",
    "                inverted_index[j].add(i)\n",
    "                    \n",
    "    return inverted_index\n",
    "make_inverted_index(['hello world','hello','hello cat','hellolot of cats'])"
   ]
  },
  {
   "cell_type": "markdown",
   "metadata": {},
   "source": [
    "### Searching our Dictionary"
   ]
  },
  {
   "cell_type": "markdown",
   "metadata": {},
   "source": [
    "**Task 3:** Write a function `andSearch(inverted_index, query)` which takes an inverted index and a list of words, `query` and returns the set of document numbers specifying all documents that contain *all* of the words in query. Hint: use set.intersection(), see [documentation](https://docs.python.org/2/library/sets.html)."
   ]
  },
  {
   "cell_type": "code",
   "execution_count": 37,
   "metadata": {},
   "outputs": [
    {
     "name": "stdout",
     "output_type": "stream",
     "text": [
      "{'of': set(), 'hello': set(), 'world': set(), 'hellolot': set(), 'cat': set(), 'cats': set()}\n",
      "{0, 1, 2}\n",
      "{0}\n",
      "[{0, 1, 2}, {0}]\n"
     ]
    },
    {
     "data": {
      "text/plain": [
       "{0}"
      ]
     },
     "execution_count": 37,
     "metadata": {},
     "output_type": "execute_result"
    }
   ],
   "source": [
    "def and_search(inverted_index, query):\n",
    "    \"\"\"\n",
    "    Input: an inverted index, as created by make_inverted_index, and a list of words to query\n",
    "    Output: the set of all document ids that contain _all_ of the specified words\n",
    "\n",
    "    Example:\n",
    "    >>> idx = make_inverted_index(['Johann Sebastian Bach', 'Johannes Brahms', 'Johann Strauss the Younger', 'Johann Strauss the Elder', ' Johann Christian Bach',  'Carl Philipp Emanuel Bach'])\n",
    "    >>> and_search(idx, ['Johann', 'the'])\n",
    "    {2, 3}\n",
    "    >>> and_search(idx, ['Johann', 'Bach'])\n",
    "    {0, 4}\n",
    "    \"\"\"\n",
    "    results = set()\n",
    "    \n",
    "    query_list = []\n",
    "    for word in query:\n",
    "        if word in inverted_index:\n",
    "            query_list.append(inverted_index[word])\n",
    "            print(inverted_index[word])\n",
    "        else:\n",
    "            print('false')\n",
    "    print(query_list)        \n",
    "    results = set.intersection(*query_list)\n",
    "    return results\n",
    "test = make_inverted_index(['hello world','hello','hello cat','hellolot of cats'])\n",
    "\n",
    "and_search(test, ['hello' ,'world', ])\n"
   ]
  },
  {
   "cell_type": "markdown",
   "metadata": {},
   "source": [
    "**What do you notice?**"
   ]
  },
  {
   "cell_type": "markdown",
   "metadata": {
    "collapsed": true
   },
   "source": [
    "So for making the inverted index I can see that it's joining the list of strings we put in as one long string (with spaces in between). Then, it's tokenizing that string so we can get each word separated. THen we put these words into a set so we can make sure there are no duplicates.\n",
    "\n",
    "We then make a dictionary and for each word in our set, we create a key for each word with a set as its values. This is done so we can add index positions to it later. Then, for each word on the original string list, we check if its in the inverted index. If it is, then we add the index position of the string to the set for that word. At the end, we then print out the sets and the index positions in which they appear in.\n",
    "\n",
    "\n",
    "\n",
    "For the second code, we make a set of results that will hold the instances where the query words exist in each inverted index passed in. We then make a dictionary for our query list. For each word in the query, we check if the word is in the inverted index. If it is, then we add it to the query list so we can use set.intersection on it later. \n",
    "\n",
    "Once we've gone through every word we use set.intersection on query_list to find the instances of each word that appear in every set (which we pass into results). We then return the results and index positions of the strings in where the words appear."
   ]
  }
 ],
 "metadata": {
  "anaconda-cloud": {},
  "kernelspec": {
   "display_name": "Python 3",
   "language": "python",
   "name": "python3"
  },
  "language_info": {
   "codemirror_mode": {
    "name": "ipython",
    "version": 3
   },
   "file_extension": ".py",
   "mimetype": "text/x-python",
   "name": "python",
   "nbconvert_exporter": "python",
   "pygments_lexer": "ipython3",
   "version": "3.7.4"
  }
 },
 "nbformat": 4,
 "nbformat_minor": 2
}
