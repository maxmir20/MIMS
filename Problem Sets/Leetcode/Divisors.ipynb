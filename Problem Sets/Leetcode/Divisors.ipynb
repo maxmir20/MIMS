{
 "cells": [
  {
   "cell_type": "code",
   "execution_count": null,
   "metadata": {},
   "outputs": [],
   "source": [
    "'''\n",
    "Given two integers dividend and divisor, divide two integers without using multiplication, division and mod operator.\n",
    "\n",
    "Return the quotient after dividing dividend by divisor.\n",
    "\n",
    "The integer division should truncate toward zero.\n",
    "'''\n",
    "\n",
    "def divide(dividend, divisor):\n",
    "    polar = None\n",
    "    \n",
    "    if divisor > 0:\n",
    "        if dividend - divisor < 0:\n",
    "            return 0\n",
    "        else:\n",
    "            return 1 + divide()\n",
    "    else:\n",
    "        polar = -1\n",
    "    "
   ]
  },
  {
   "cell_type": "code",
   "execution_count": 4,
   "metadata": {},
   "outputs": [
    {
     "name": "stdout",
     "output_type": "stream",
     "text": [
      "2\n",
      "1\n",
      "0\n"
     ]
    },
    {
     "data": {
      "text/plain": [
       "3"
      ]
     },
     "execution_count": 4,
     "metadata": {},
     "output_type": "execute_result"
    }
   ],
   "source": [
    "def divide(dividend, divisor):\n",
    "    count = 0\n",
    "    decrement = dividend - divisor\n",
    "    while decrement >= 0:        \n",
    "        print(decrement)\n",
    "        count +=1\n",
    "        decrement -= divisor\n",
    "    return count\n",
    "\n",
    "divide(3,1)"
   ]
  },
  {
   "cell_type": "code",
   "execution_count": null,
   "metadata": {},
   "outputs": [],
   "source": []
  }
 ],
 "metadata": {
  "kernelspec": {
   "display_name": "Python 3",
   "language": "python",
   "name": "python3"
  },
  "language_info": {
   "codemirror_mode": {
    "name": "ipython",
    "version": 3
   },
   "file_extension": ".py",
   "mimetype": "text/x-python",
   "name": "python",
   "nbconvert_exporter": "python",
   "pygments_lexer": "ipython3",
   "version": "3.7.4"
  }
 },
 "nbformat": 4,
 "nbformat_minor": 2
}
