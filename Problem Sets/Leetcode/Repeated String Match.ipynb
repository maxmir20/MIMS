{
 "cells": [
  {
   "cell_type": "code",
   "execution_count": null,
   "metadata": {},
   "outputs": [],
   "source": [
    "'''\n",
    "Given two strings A and B, find the minimum number of times A has to be repeated such that B is a substring of it. If no such solution, return -1.\n",
    "\n",
    "For example, with A = \"abcd\" and B = \"cdabcdab\".\n",
    "\n",
    "Return 3, because by repeating A three times (“abcdabcdabcd”), B is a substring of it; and B is not a substring of A repeated two times (\"abcdabcd\").\n",
    "\n",
    "Note:\n",
    "The length of A and B will be between 1 and 10000.\n",
    "'''\n",
    "\n",
    "# class Solution:\n",
    "#     def repeatedStringMatch(self, A: str, B: str) -> int:\n",
    "        "
   ]
  },
  {
   "cell_type": "code",
   "execution_count": null,
   "metadata": {},
   "outputs": [],
   "source": [
    "def repeatedStringMatch(a,b):\n",
    "    if a not in b:\n",
    "        return -1\n",
    "    else:\n",
    "        "
   ]
  },
  {
   "cell_type": "code",
   "execution_count": 52,
   "metadata": {},
   "outputs": [
    {
     "name": "stdout",
     "output_type": "stream",
     "text": [
      "0\n",
      "abcd\n",
      "4\n",
      "8\n",
      "abcd\n",
      "8\n",
      "12\n"
     ]
    },
    {
     "data": {
      "text/plain": [
       "-1"
      ]
     },
     "execution_count": 52,
     "metadata": {},
     "output_type": "execute_result"
    }
   ],
   "source": [
    "b = 'cdabcdab'\n",
    "a = 'abcd'\n",
    "def repeatedStringMatch(a,b):\n",
    "    sublength = len(a)\n",
    "    length = len(b)\n",
    "    start = b.find(a)\n",
    "    print(start)\n",
    "    if start == -1 or b[:start] not in a:\n",
    "        return -1\n",
    "    elif start == 0:\n",
    "        start = sublength\n",
    "    \n",
    "    progress = start\n",
    "    count = 1      \n",
    "\n",
    "    #print(length)\n",
    "    while b[progress:progress+sublength] == a:\n",
    "        print(b[progress:progress+sublength])\n",
    "\n",
    "        print(progress)\n",
    "        progress = start + sublength * count\n",
    "        count+=1                \n",
    "        print(progress)\n",
    "    if b[progress:] not in a:\n",
    "        return -1\n",
    "    else:\n",
    "        count+=1\n",
    "    return count\n",
    "#     if b[progress:] not in a:\n",
    "#         return -1\n",
    "#     else:\n",
    "#         return count +1\n",
    "\n",
    "\n",
    "repeatedStringMatch(a,b)\n",
    "    \n",
    "    \n",
    "#     if len(b) < len(a):\n",
    "#         if b in a:\n",
    "#             return 1\n",
    "#         else:\n",
    "#             return -1\n",
    "#     else:\n",
    "#         return 1 + "
   ]
  },
  {
   "cell_type": "code",
   "execution_count": 5,
   "metadata": {},
   "outputs": [
    {
     "data": {
      "text/plain": [
       "False"
      ]
     },
     "execution_count": 5,
     "metadata": {},
     "output_type": "execute_result"
    }
   ],
   "source": [
    "b = 'cdab'\n",
    "a = 'abcd'\n",
    "b in a\n"
   ]
  },
  {
   "cell_type": "code",
   "execution_count": null,
   "metadata": {},
   "outputs": [],
   "source": []
  }
 ],
 "metadata": {
  "kernelspec": {
   "display_name": "Python 3",
   "language": "python",
   "name": "python3"
  },
  "language_info": {
   "codemirror_mode": {
    "name": "ipython",
    "version": 3
   },
   "file_extension": ".py",
   "mimetype": "text/x-python",
   "name": "python",
   "nbconvert_exporter": "python",
   "pygments_lexer": "ipython3",
   "version": "3.7.4"
  }
 },
 "nbformat": 4,
 "nbformat_minor": 2
}
