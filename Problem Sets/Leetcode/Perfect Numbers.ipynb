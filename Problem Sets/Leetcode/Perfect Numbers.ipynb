{
 "cells": [
  {
   "cell_type": "code",
   "execution_count": 14,
   "metadata": {},
   "outputs": [
    {
     "name": "stdout",
     "output_type": "stream",
     "text": [
      "[1, 2, 7]\n"
     ]
    },
    {
     "data": {
      "text/plain": [
       "False"
      ]
     },
     "execution_count": 14,
     "metadata": {},
     "output_type": "execute_result"
    }
   ],
   "source": [
    "'''\n",
    "We define the Perfect Number is a positive integer that is equal to the sum of all its positive divisors except itself.\n",
    "Now, given an integer n, write a function that returns true when it is a perfect number and false when it is not.\n",
    "\n",
    "Example:\n",
    "\n",
    "Input: 28\n",
    "Output: True\n",
    "Explanation: 28 = 1 + 2 + 4 + 7 + 14\n",
    "\n",
    "'''\n",
    "\n",
    "def perfect_number(n):\n",
    "    divisors = [x for x in range(1,n-1) if n%x == 0]\n",
    "    print(divisors)\n",
    "    return sum(divisors) == n\n",
    "\n",
    "perfect_number()"
   ]
  },
  {
   "cell_type": "code",
   "execution_count": null,
   "metadata": {},
   "outputs": [],
   "source": []
  }
 ],
 "metadata": {
  "kernelspec": {
   "display_name": "Python 3",
   "language": "python",
   "name": "python3"
  },
  "language_info": {
   "codemirror_mode": {
    "name": "ipython",
    "version": 3
   },
   "file_extension": ".py",
   "mimetype": "text/x-python",
   "name": "python",
   "nbconvert_exporter": "python",
   "pygments_lexer": "ipython3",
   "version": "3.7.4"
  }
 },
 "nbformat": 4,
 "nbformat_minor": 2
}
