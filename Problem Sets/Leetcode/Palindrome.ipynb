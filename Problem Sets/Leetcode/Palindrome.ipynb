{
 "cells": [
  {
   "cell_type": "markdown",
   "metadata": {},
   "source": [
    "Given a singly linked list, determine if it is a palindrome.\n",
    "\n",
    "Example 1:\n",
    "\n",
    "Input: 1->2\n",
    "Output: false\n",
    "\n",
    "Example 2:\n",
    "\n",
    "Input: 1->2->2->1\n",
    "Output: true"
   ]
  },
  {
   "cell_type": "code",
   "execution_count": 17,
   "metadata": {},
   "outputs": [
    {
     "data": {
      "text/plain": [
       "True"
      ]
     },
     "execution_count": 17,
     "metadata": {},
     "output_type": "execute_result"
    }
   ],
   "source": [
    "class Node:\n",
    "    def __init__(self,val):\n",
    "        self.val = val\n",
    "        self.next = None # the pointer initially points to nothing\n",
    "    \n",
    "    def traverse(self):\n",
    "        node = self # start from the head node\n",
    "#         while node != None:\n",
    "        print(node.val)# access the node value\n",
    "        node = node.next # move on to the next node\n",
    "        \n",
    "node1 = Node(12) \n",
    "node3 = Node(37)\n",
    "node2 = Node(12)  \n",
    "node4 = Node(37)\n",
    "node5 = Node(12) \n",
    "node1.next = node3 # 12->37\n",
    "node3.next = node2 # 37->99# the entire linked list now looks like: 12->99->37\n",
    "node2.next = node4\n",
    "node4.next = node5\n",
    "\n",
    "def link_Pal(node):\n",
    "    comp_list = []\n",
    "    while node != None:\n",
    "        comp_list.append(node.val)\n",
    "        node = node.next\n",
    "#     print(comp_list)\n",
    "    split = int(len(comp_list)/2)\n",
    "    pal = True\n",
    "    for i in range(split):\n",
    "#         print(comp_list[i] , comp_list[-1-i])\n",
    "        if comp_list[i] != comp_list[-1-i]:\n",
    "            pal = False\n",
    "    return pal\n",
    "\n",
    "link_Pal(node1)"
   ]
  },
  {
   "cell_type": "code",
   "execution_count": null,
   "metadata": {},
   "outputs": [],
   "source": []
  }
 ],
 "metadata": {
  "kernelspec": {
   "display_name": "Python 3",
   "language": "python",
   "name": "python3"
  },
  "language_info": {
   "codemirror_mode": {
    "name": "ipython",
    "version": 3
   },
   "file_extension": ".py",
   "mimetype": "text/x-python",
   "name": "python",
   "nbconvert_exporter": "python",
   "pygments_lexer": "ipython3",
   "version": "3.7.4"
  }
 },
 "nbformat": 4,
 "nbformat_minor": 2
}
