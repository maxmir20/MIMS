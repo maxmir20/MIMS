{
 "cells": [
  {
   "cell_type": "code",
   "execution_count": 23,
   "metadata": {},
   "outputs": [
    {
     "name": "stdout",
     "output_type": "stream",
     "text": [
      "0\n",
      "[5]\n",
      "5\n",
      "[5, -2]\n",
      "3\n",
      "[5, -2, 4]\n",
      "7\n",
      "[5, -2]\n",
      "3\n",
      "[5, -2, -4]\n",
      "-1\n",
      "[5, -2, -4, 9]\n",
      "8\n",
      "[5, -2, -4, 9, 5]\n",
      "13\n",
      "[5, -2, -4, 9, 5, 14]\n"
     ]
    },
    {
     "data": {
      "text/plain": [
       "27"
      ]
     },
     "execution_count": 23,
     "metadata": {},
     "output_type": "execute_result"
    }
   ],
   "source": [
    "# class Solution:\n",
    "#     def calPoints(self, ops: List[str]) -> int:\n",
    "    \n",
    "    \n",
    "def read_list(str_list):\n",
    "    sumbb = 0\n",
    "    valid_index = []\n",
    "    for i in range(len(str_list)):\n",
    "        print(sumbb)\n",
    "        try:\n",
    "            sumbb += int(str_list[i])\n",
    "            valid_index.append(int(str_list[i]))\n",
    "            print(valid_index)\n",
    "        except:\n",
    "            if str_list[i] =='+':\n",
    "                sumbb += sum(valid_index[-2:])\n",
    "                valid_index.append(sum(valid_index[-2:]))\n",
    "\n",
    "                print(valid_index)\n",
    "\n",
    "            elif str_list[i] =='D':\n",
    "                sumbb += valid_index[-1] * 2\n",
    "                valid_index.append(valid_index[-1] * 2)\n",
    "                print(valid_index)\n",
    "\n",
    "            elif str_list[i] =='C':\n",
    "                sumbb -= valid_index[-1]\n",
    "                valid_index.pop()\n",
    "                print(valid_index)\n",
    "\n",
    "            else:\n",
    "                print(\"Sorry, couldn't read this one\")\n",
    "    return sumbb\n",
    "numbers = [\"5\",\"-2\",\"4\",\"C\",\"D\",\"9\",\"+\",\"+\"]\n",
    "\n",
    "read_list(numbers) "
   ]
  },
  {
   "cell_type": "code",
   "execution_count": 2,
   "metadata": {},
   "outputs": [
    {
     "name": "stdout",
     "output_type": "stream",
     "text": [
      "5\n"
     ]
    }
   ],
   "source": [
    "a = \"5\"\n",
    "b = int(a)\n",
    "print(b)"
   ]
  },
  {
   "cell_type": "code",
   "execution_count": null,
   "metadata": {},
   "outputs": [],
   "source": []
  }
 ],
 "metadata": {
  "kernelspec": {
   "display_name": "Python 3",
   "language": "python",
   "name": "python3"
  },
  "language_info": {
   "codemirror_mode": {
    "name": "ipython",
    "version": 3
   },
   "file_extension": ".py",
   "mimetype": "text/x-python",
   "name": "python",
   "nbconvert_exporter": "python",
   "pygments_lexer": "ipython3",
   "version": "3.7.4"
  }
 },
 "nbformat": 4,
 "nbformat_minor": 2
}
