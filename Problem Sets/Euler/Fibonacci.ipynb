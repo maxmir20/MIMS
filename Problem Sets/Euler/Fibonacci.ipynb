{
 "cells": [
  {
   "cell_type": "code",
   "execution_count": 9,
   "metadata": {},
   "outputs": [
    {
     "name": "stdout",
     "output_type": "stream",
     "text": [
      "2\n",
      "8\n",
      "34\n",
      "144\n",
      "610\n",
      "2584\n",
      "10946\n",
      "46368\n",
      "196418\n",
      "832040\n",
      "3524578\n",
      "[1, 1, 2, 3, 5, 8, 13, 21, 34, 55, 89, 144, 233, 377, 610, 987, 1597, 2584, 4181, 6765, 10946, 17711, 28657, 46368, 75025, 121393, 196418, 317811, 514229, 832040, 1346269, 2178309, 3524578, 5702887]\n",
      "the sum of all the even fibonaci numbers before 4 million is 4613732\n"
     ]
    }
   ],
   "source": [
    "def fibonacci():\n",
    "    fib_sum = [1,1]\n",
    "    even_sum = 0\n",
    "    while max(fib_sum) < 4000000:\n",
    "        #print(fib_sum)\n",
    "        n = len(fib_sum)-1\n",
    "        #print(n)\n",
    "        if fib_sum[n]%2 == 0:\n",
    "            print(fib_sum[n])  \n",
    "            even_sum += fib_sum[n]\n",
    "        fib_sum.append(fib_sum[n] + fib_sum[n - 1])\n",
    "    print(fib_sum)\n",
    "    print(\"the sum of all the even fibonaci numbers before 4 million is \" + str(even_sum))\n",
    "\n",
    "\n",
    "\n",
    "def main():\n",
    "    fibonacci()\n",
    "    return\n",
    "\n",
    "main()"
   ]
  },
  {
   "cell_type": "code",
   "execution_count": null,
   "metadata": {},
   "outputs": [],
   "source": []
  }
 ],
 "metadata": {
  "kernelspec": {
   "display_name": "Python 3",
   "language": "python",
   "name": "python3"
  },
  "language_info": {
   "codemirror_mode": {
    "name": "ipython",
    "version": 3
   },
   "file_extension": ".py",
   "mimetype": "text/x-python",
   "name": "python",
   "nbconvert_exporter": "python",
   "pygments_lexer": "ipython3",
   "version": "3.7.4"
  }
 },
 "nbformat": 4,
 "nbformat_minor": 2
}
