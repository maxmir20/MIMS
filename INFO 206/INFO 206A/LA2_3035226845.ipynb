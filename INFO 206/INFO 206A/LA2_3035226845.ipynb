{
 "cells": [
  {
   "cell_type": "code",
   "execution_count": 192,
   "metadata": {},
   "outputs": [
    {
     "data": {
      "image/svg+xml": [
       "<?xml version=\"1.0\" encoding=\"UTF-8\"?>\n",
       "<svg xmlns=\"http://www.w3.org/2000/svg\" xmlns:xlink=\"http://www.w3.org/1999/xlink\"\n",
       "     width=\"200\" height=\"200\" viewBox=\"0 -200 200 200\">\n",
       "<defs>\n",
       "</defs>\n",
       "<rect x=\"0\" y=\"-200\" width=\"200\" height=\"200\" fill=\"black\" />\n",
       "<circle cx=\"199.99097208420375\" cy=\"-190.12755532040762\" r=\"4\" fill=\"lime\" />\n",
       "<circle cx=\"76.28869682104926\" cy=\"-207.7854877646572\" r=\"4\" fill=\"lime\" />\n",
       "<circle cx=\"144.65262725204133\" cy=\"-89.20477600428319\" r=\"4\" fill=\"lime\" />\n",
       "<circle cx=\"38.124668218581405\" cy=\"-31.3506459702853\" r=\"4\" fill=\"lime\" />\n",
       "<circle cx=\"120.49718129713312\" cy=\"-117.17205998869922\" r=\"4\" fill=\"lime\" />\n",
       "<circle cx=\"91.14936564525044\" cy=\"-90.5643998959963\" r=\"4\" fill=\"lime\" />\n",
       "<circle cx=\"172.52645568341228\" cy=\"-5.492326474543631\" r=\"4\" fill=\"lime\" />\n",
       "<circle cx=\"47.12014167815411\" cy=\"-194.14628393589717\" r=\"4\" fill=\"lime\" />\n",
       "<circle cx=\"144.10963202578307\" cy=\"-118.46481647469489\" r=\"4\" fill=\"lime\" />\n",
       "<circle cx=\"107.79156477225482\" cy=\"-119.48766637981078\" r=\"4\" fill=\"lime\" />\n",
       "<circle cx=\"71.1289806392736\" cy=\"-185.18718370090096\" r=\"4\" fill=\"lime\" />\n",
       "<circle cx=\"112.66202388558935\" cy=\"-51.68684829309892\" r=\"4\" fill=\"lime\" />\n",
       "<circle cx=\"104.53539993762558\" cy=\"-96.62779131292575\" r=\"4\" fill=\"lime\" />\n",
       "<circle cx=\"3.8761560161475845\" cy=\"-129.44355819830417\" r=\"4\" fill=\"lime\" />\n",
       "<circle cx=\"123.97583945810466\" cy=\"-125.06622068055668\" r=\"4\" fill=\"lime\" />\n",
       "<circle cx=\"7.573898236844805\" cy=\"-64.78418173410338\" r=\"4\" fill=\"lime\" />\n",
       "<circle cx=\"33.048124839244814\" cy=\"-31.28817608896233\" r=\"4\" fill=\"lime\" />\n",
       "<circle cx=\"10.488712417468264\" cy=\"-46.86858952304231\" r=\"4\" fill=\"lime\" />\n",
       "<circle cx=\"35.484799092125364\" cy=\"-68.45962809300183\" r=\"4\" fill=\"lime\" />\n",
       "<circle cx=\"120.66638727806317\" cy=\"-87.9212768380832\" r=\"4\" fill=\"lime\" />\n",
       "</svg>"
      ],
      "text/plain": [
       "<drawSvg.drawing.Drawing at 0x7f1c08556160>"
      ]
     },
     "metadata": {},
     "output_type": "display_data"
    },
    {
     "ename": "KeyboardInterrupt",
     "evalue": "",
     "output_type": "error",
     "traceback": [
      "\u001b[0;31m---------------------------------------------------------------------------\u001b[0m",
      "\u001b[0;31mKeyboardInterrupt\u001b[0m                         Traceback (most recent call last)",
      "\u001b[0;32m<ipython-input-192-69890a68d719>\u001b[0m in \u001b[0;36m<module>\u001b[0;34m\u001b[0m\n\u001b[1;32m     62\u001b[0m         \u001b[0md\u001b[0m \u001b[0;34m=\u001b[0m \u001b[0mdraw\u001b[0m\u001b[0;34m.\u001b[0m\u001b[0mDrawing\u001b[0m\u001b[0;34m(\u001b[0m\u001b[0mwindow_width\u001b[0m\u001b[0;34m,\u001b[0m \u001b[0mwindow_height\u001b[0m\u001b[0;34m,\u001b[0m \u001b[0morigin\u001b[0m\u001b[0;34m=\u001b[0m\u001b[0;34m(\u001b[0m\u001b[0;36m0\u001b[0m\u001b[0;34m,\u001b[0m\u001b[0;36m0\u001b[0m\u001b[0;34m)\u001b[0m \u001b[0;34m)\u001b[0m \u001b[0;31m# erase canvas\u001b[0m\u001b[0;34m\u001b[0m\u001b[0;34m\u001b[0m\u001b[0m\n\u001b[1;32m     63\u001b[0m         \u001b[0md\u001b[0m\u001b[0;34m.\u001b[0m\u001b[0mappend\u001b[0m\u001b[0;34m(\u001b[0m\u001b[0mdraw\u001b[0m\u001b[0;34m.\u001b[0m\u001b[0mRectangle\u001b[0m\u001b[0;34m(\u001b[0m\u001b[0;36m0\u001b[0m\u001b[0;34m,\u001b[0m\u001b[0;36m0\u001b[0m\u001b[0;34m,\u001b[0m\u001b[0mwindow_width\u001b[0m\u001b[0;34m,\u001b[0m\u001b[0mwindow_height\u001b[0m\u001b[0;34m,\u001b[0m \u001b[0mfill\u001b[0m\u001b[0;34m=\u001b[0m\u001b[0;34m'black'\u001b[0m\u001b[0;34m)\u001b[0m\u001b[0;34m)\u001b[0m\u001b[0;34m\u001b[0m\u001b[0;34m\u001b[0m\u001b[0m\n\u001b[0;32m---> 64\u001b[0;31m         \u001b[0manim\u001b[0m\u001b[0;34m.\u001b[0m\u001b[0mdraw_frame\u001b[0m\u001b[0;34m(\u001b[0m\u001b[0;34m)\u001b[0m \u001b[0;31m#it's showtime\u001b[0m\u001b[0;34m\u001b[0m\u001b[0;34m\u001b[0m\u001b[0m\n\u001b[0m\u001b[1;32m     65\u001b[0m \u001b[0;34m\u001b[0m\u001b[0m\n",
      "\u001b[0;32m~/bootcamp_env/lib/python3.6/site-packages/drawSvg/animation.py\u001b[0m in \u001b[0;36mdraw_frame\u001b[0;34m(self, *args, **kwargs)\u001b[0m\n\u001b[1;32m     20\u001b[0m     \u001b[0;32mdef\u001b[0m \u001b[0mdraw_frame\u001b[0m\u001b[0;34m(\u001b[0m\u001b[0mself\u001b[0m\u001b[0;34m,\u001b[0m \u001b[0;34m*\u001b[0m\u001b[0margs\u001b[0m\u001b[0;34m,\u001b[0m \u001b[0;34m**\u001b[0m\u001b[0mkwargs\u001b[0m\u001b[0;34m)\u001b[0m\u001b[0;34m:\u001b[0m\u001b[0;34m\u001b[0m\u001b[0;34m\u001b[0m\u001b[0m\n\u001b[1;32m     21\u001b[0m         \u001b[0mframe\u001b[0m \u001b[0;34m=\u001b[0m \u001b[0mself\u001b[0m\u001b[0;34m.\u001b[0m\u001b[0mdraw_func\u001b[0m\u001b[0;34m(\u001b[0m\u001b[0;34m*\u001b[0m\u001b[0margs\u001b[0m\u001b[0;34m,\u001b[0m \u001b[0;34m**\u001b[0m\u001b[0mkwargs\u001b[0m\u001b[0;34m)\u001b[0m\u001b[0;34m\u001b[0m\u001b[0;34m\u001b[0m\u001b[0m\n\u001b[0;32m---> 22\u001b[0;31m         \u001b[0mself\u001b[0m\u001b[0;34m.\u001b[0m\u001b[0mappend_frame\u001b[0m\u001b[0;34m(\u001b[0m\u001b[0mframe\u001b[0m\u001b[0;34m)\u001b[0m\u001b[0;34m\u001b[0m\u001b[0;34m\u001b[0m\u001b[0m\n\u001b[0m\u001b[1;32m     23\u001b[0m         \u001b[0;32mreturn\u001b[0m \u001b[0mframe\u001b[0m\u001b[0;34m\u001b[0m\u001b[0;34m\u001b[0m\u001b[0m\n\u001b[1;32m     24\u001b[0m \u001b[0;34m\u001b[0m\u001b[0m\n",
      "\u001b[0;32m~/bootcamp_env/lib/python3.6/site-packages/drawSvg/animation.py\u001b[0m in \u001b[0;36mappend_frame\u001b[0;34m(self, frame)\u001b[0m\n\u001b[1;32m     16\u001b[0m     \u001b[0;32mdef\u001b[0m \u001b[0mappend_frame\u001b[0m\u001b[0;34m(\u001b[0m\u001b[0mself\u001b[0m\u001b[0;34m,\u001b[0m \u001b[0mframe\u001b[0m\u001b[0;34m)\u001b[0m\u001b[0;34m:\u001b[0m\u001b[0;34m\u001b[0m\u001b[0;34m\u001b[0m\u001b[0m\n\u001b[1;32m     17\u001b[0m         \u001b[0mself\u001b[0m\u001b[0;34m.\u001b[0m\u001b[0mframes\u001b[0m\u001b[0;34m.\u001b[0m\u001b[0mappend\u001b[0m\u001b[0;34m(\u001b[0m\u001b[0mframe\u001b[0m\u001b[0;34m)\u001b[0m\u001b[0;34m\u001b[0m\u001b[0;34m\u001b[0m\u001b[0m\n\u001b[0;32m---> 18\u001b[0;31m         \u001b[0mself\u001b[0m\u001b[0;34m.\u001b[0m\u001b[0mcallback\u001b[0m\u001b[0;34m(\u001b[0m\u001b[0mframe\u001b[0m\u001b[0;34m)\u001b[0m\u001b[0;34m\u001b[0m\u001b[0;34m\u001b[0m\u001b[0m\n\u001b[0m\u001b[1;32m     19\u001b[0m \u001b[0;34m\u001b[0m\u001b[0m\n\u001b[1;32m     20\u001b[0m     \u001b[0;32mdef\u001b[0m \u001b[0mdraw_frame\u001b[0m\u001b[0;34m(\u001b[0m\u001b[0mself\u001b[0m\u001b[0;34m,\u001b[0m \u001b[0;34m*\u001b[0m\u001b[0margs\u001b[0m\u001b[0;34m,\u001b[0m \u001b[0;34m**\u001b[0m\u001b[0mkwargs\u001b[0m\u001b[0;34m)\u001b[0m\u001b[0;34m:\u001b[0m\u001b[0;34m\u001b[0m\u001b[0;34m\u001b[0m\u001b[0m\n",
      "\u001b[0;32m~/bootcamp_env/lib/python3.6/site-packages/drawSvg/animation.py\u001b[0m in \u001b[0;36mdraw_jupyter_frame\u001b[0;34m(self, frame)\u001b[0m\n\u001b[1;32m     59\u001b[0m             \u001b[0minput\u001b[0m\u001b[0;34m(\u001b[0m\u001b[0;34m'Next?'\u001b[0m\u001b[0;34m)\u001b[0m\u001b[0;34m\u001b[0m\u001b[0;34m\u001b[0m\u001b[0m\n\u001b[1;32m     60\u001b[0m         \u001b[0;32melif\u001b[0m \u001b[0mself\u001b[0m\u001b[0;34m.\u001b[0m\u001b[0mdelay\u001b[0m \u001b[0;34m!=\u001b[0m \u001b[0;36m0\u001b[0m\u001b[0;34m:\u001b[0m\u001b[0;34m\u001b[0m\u001b[0;34m\u001b[0m\u001b[0m\n\u001b[0;32m---> 61\u001b[0;31m             \u001b[0mtime\u001b[0m\u001b[0;34m.\u001b[0m\u001b[0msleep\u001b[0m\u001b[0;34m(\u001b[0m\u001b[0mself\u001b[0m\u001b[0;34m.\u001b[0m\u001b[0mdelay\u001b[0m\u001b[0;34m)\u001b[0m\u001b[0;34m\u001b[0m\u001b[0;34m\u001b[0m\u001b[0m\n\u001b[0m\u001b[1;32m     62\u001b[0m \u001b[0;34m\u001b[0m\u001b[0m\n\u001b[1;32m     63\u001b[0m     \u001b[0;32mdef\u001b[0m \u001b[0m__enter__\u001b[0m\u001b[0;34m(\u001b[0m\u001b[0mself\u001b[0m\u001b[0;34m)\u001b[0m\u001b[0;34m:\u001b[0m\u001b[0;34m\u001b[0m\u001b[0;34m\u001b[0m\u001b[0m\n",
      "\u001b[0;31mKeyboardInterrupt\u001b[0m: "
     ]
    }
   ],
   "source": [
    "import drawSvg as draw\n",
    "import math\n",
    "import random\n",
    "\n",
    "window_height = 200\n",
    "window_width = 200\n",
    "ball_count = 20\n",
    "ball_size = 4\n",
    "x = []\n",
    "y = []\n",
    "vx = []\n",
    "vy = []\n",
    "timestep = 1\n",
    "\n",
    "\n",
    "def generate_positions(): # used to populate the x, y, vx, and vy lists with random values\n",
    "    for i in range(0,ball_count): #iterates for the number of balls we're using in the simulation\n",
    "        x.extend([random.randint(1,window_width)])\n",
    "        y.extend([random.randint(1,window_height)])\n",
    "        vx.extend([random.uniform(-5,5)])\n",
    "        vy.extend([random.uniform(-5,5)])\n",
    "    \n",
    "def update_position(i):\n",
    "    \n",
    "    x[i] = x[i] + timestep*vx[i]\n",
    "    y[i] = y[i] + timestep*vy[i]    \n",
    "    cross_list = [] #list used to hold list of what indexes are matching (to see if balls are at the same location/\"colliding\")\n",
    "    \n",
    "    for l in range(len(x)): #tests list to see if there's overlap between balls\n",
    "        if int(x[l]) >= int(x[i] - ball_size) and int(x[l]) <= int(x[i] + ball_size) and int(y[l]) >= int(y[i] - ball_size) and int(y[l]) <= int(y[i] + ball_size):\n",
    "            cross_list.append(l) #pulls index numbers of elements in x that match our value. There should always be at least 1 in since we just set it \n",
    "    if len(cross_list) > 1: #checks if the cross_list is bigger than one (i.e there are several balls that share x and y coordinates) \n",
    "        for i in cross_list: # changes velocities and positions \n",
    "            vx[i] *= -1\n",
    "            x[i] = x[i] + timestep*vx[i]\n",
    "            vy[i] *= -1\n",
    "            y[i] = y[i] + timestep*vy[i]\n",
    "\n",
    "    if x[i] >= window_width or x[i] <= 0: #checks if a circle hits the left or right wall\n",
    "        vx[i] *= -1\n",
    "        x[i] = x[i] + timestep*vx[i]\n",
    "    if y[i] >= window_height or y[i] <= 0: #checks if a circle hits the top or bottom wall\n",
    "        vy[i] *= -1\n",
    "        y[i] = y[i] + timestep*vy[i]\n",
    "    \n",
    "    \n",
    "    \n",
    "def draw_ball(i):\n",
    "    d.append(draw.Circle(x[i], y[i], ball_size, fill='lime'))\n",
    "    return d\n",
    "\n",
    "def draw_frame():\n",
    "    for i in range(0,ball_count):\n",
    "        update_position(i)\n",
    "        draw_ball(i)\n",
    "    return d\n",
    "\n",
    "generate_positions() # creates the x,y,vx,vy positions\n",
    "\n",
    "with draw.animate_jupyter(draw_frame, delay=0.05) as anim:\n",
    "    while(True):\n",
    "        d = draw.Drawing(window_width, window_height, origin=(0,0) ) # erase canvas\n",
    "        d.append(draw.Rectangle(0,0,window_width,window_height, fill='black'))\n",
    "        anim.draw_frame() #it's showtime\n",
    "    "
   ]
  },
  {
   "cell_type": "code",
   "execution_count": null,
   "metadata": {},
   "outputs": [],
   "source": []
  },
  {
   "cell_type": "code",
   "execution_count": null,
   "metadata": {},
   "outputs": [],
   "source": []
  }
 ],
 "metadata": {
  "kernelspec": {
   "display_name": "Python 3",
   "language": "python",
   "name": "python3"
  },
  "language_info": {
   "codemirror_mode": {
    "name": "ipython",
    "version": 3
   },
   "file_extension": ".py",
   "mimetype": "text/x-python",
   "name": "python",
   "nbconvert_exporter": "python",
   "pygments_lexer": "ipython3",
   "version": "3.6.8"
  }
 },
 "nbformat": 4,
 "nbformat_minor": 2
}
