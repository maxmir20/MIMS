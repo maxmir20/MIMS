{
 "cells": [
  {
   "cell_type": "code",
   "execution_count": null,
   "metadata": {},
   "outputs": [],
   "source": [
    "# My first Python program\n",
    "print(\"Hello World\")"
   ]
  },
  {
   "cell_type": "code",
   "execution_count": null,
   "metadata": {},
   "outputs": [],
   "source": [
    "# The Python interpreter:\n",
    "#    1. reads a line code\n",
    "#    2. interprets the instruction\n",
    "#    3. executes the instruction\n",
    "#    4. increments the \"program counter\" and repeats until done\n",
    "print(\"Hello\")\n",
    "print(\"my\")\n",
    "print(\"name\")\n",
    "print(\"is\")\n",
    "print(\"Inigo\")\n",
    "print(\"Montoya\")"
   ]
  },
  {
   "cell_type": "code",
   "execution_count": null,
   "metadata": {},
   "outputs": [],
   "source": [
    "# This is a function consisting of:\n",
    "#    1. a header (def ...): \"def\" is a keyword\n",
    "#    2. a body (print ...): the body is indented using <tab>\n",
    "def say_introduction():\n",
    "    print(\"My name is Inigo Montoya.\")\n",
    "\n",
    "def threaten_vengeance():\n",
    "    print(\"You killed my father.\")\n",
    "    print(\"Prepare to die.\")\n",
    "\n",
    "print(\"Hello.\")"
   ]
  },
  {
   "cell_type": "code",
   "execution_count": 11,
   "metadata": {},
   "outputs": [
    {
     "name": "stdout",
     "output_type": "stream",
     "text": [
      "Hello.\n",
      "My name is Inigo Montoya.\n",
      "You killed my father.\n",
      "Prepare to die.\n",
      "Hello.\n",
      "You killed my father.\n",
      "Prepare to die.\n"
     ]
    }
   ],
   "source": [
    "# This is a function consisting of:\n",
    "#    1. a header (def ...): \"def\" is a keyword\n",
    "#    2. a body (print ...): the body is indented using <tab>\n",
    "def say_introduction():\n",
    "    print(\"My name is Inigo Montoya.\")\n",
    "\n",
    "def threaten_vengeance():\n",
    "    print(\"You killed my father.\")\n",
    "    print(\"Prepare to die.\")\n",
    "        \n",
    "print(\"Hello.\")\n",
    "say_introduction() # this is a function call\n",
    "threaten_vengeance() # this is another function call\n",
    "print(\"Hello.\")\n",
    "threaten_vengeance() # and another"
   ]
  },
  {
   "cell_type": "code",
   "execution_count": null,
   "metadata": {},
   "outputs": [],
   "source": [
    "# Abstraction hides the details of how things work and \n",
    "# makes it easier to make changes\n",
    "def threaten_vengeance():\n",
    "    print(\"You killed my father.\")\n",
    "    print(\"Prepare to die.\")\n",
    "\n",
    "def greet():\n",
    "    print(\"Hello.\")\n",
    "    print(\"My name is Inigo Montoya.\")\n",
    "\n",
    "greet()\n",
    "threaten_vengeance()\n",
    "greet() \n",
    "threaten_vengeance()\n"
   ]
  },
  {
   "cell_type": "code",
   "execution_count": 12,
   "metadata": {},
   "outputs": [
    {
     "name": "stdout",
     "output_type": "stream",
     "text": [
      "2.0\n",
      "3.0\n"
     ]
    }
   ],
   "source": [
    "# We can use functions that someone else wrote\n",
    "#\n",
    "# In these examples, we *pass* parameters to a function\n",
    "from simplefunctions import print_sqrt # make a function available to you\n",
    "\n",
    "print_sqrt(4) # call the function\n",
    "print_sqrt(9)\n"
   ]
  },
  {
   "cell_type": "code",
   "execution_count": 13,
   "metadata": {},
   "outputs": [
    {
     "name": "stdout",
     "output_type": "stream",
     "text": [
      "2019-08-28 11:38:59.268898\n"
     ]
    }
   ],
   "source": [
    "# We can use functions that someone else wrote \n",
    "from simplefunctions import print_date_and_time # make a function available to you\n",
    "\n",
    "print_date_and_time() # call the function\n"
   ]
  },
  {
   "cell_type": "code",
   "execution_count": 17,
   "metadata": {
    "scrolled": true
   },
   "outputs": [
    {
     "data": {
      "image/svg+xml": [
       "<?xml version=\"1.0\" encoding=\"UTF-8\"?>\n",
       "<svg xmlns=\"http://www.w3.org/2000/svg\" xmlns:xlink=\"http://www.w3.org/1999/xlink\"\n",
       "     width=\"200\" height=\"200\" viewBox=\"-100.0 -100.0 200 200\">\n",
       "<defs>\n",
       "</defs>\n",
       "<circle cx=\"0\" cy=\"0\" r=\"30\" />\n",
       "</svg>"
      ],
      "text/plain": [
       "<drawSvg.drawing.Drawing at 0x10709a390>"
      ]
     },
     "execution_count": 17,
     "metadata": {},
     "output_type": "execute_result"
    }
   ],
   "source": [
    "import drawSvg as draw\n",
    "\n",
    "d = draw.Drawing(200, 200, origin='center')\n",
    "d.append(draw.Circle(0,0,30)) # render a circle\n",
    "d  # display drawing"
   ]
  },
  {
   "cell_type": "code",
   "execution_count": 18,
   "metadata": {},
   "outputs": [
    {
     "data": {
      "image/svg+xml": [
       "<?xml version=\"1.0\" encoding=\"UTF-8\"?>\n",
       "<svg xmlns=\"http://www.w3.org/2000/svg\" xmlns:xlink=\"http://www.w3.org/1999/xlink\"\n",
       "     width=\"200\" height=\"200\" viewBox=\"-100.0 -100.0 200 200\">\n",
       "<defs>\n",
       "</defs>\n",
       "<circle cx=\"0\" cy=\"0\" r=\"50\" fill=\"red\" stroke-width=\"1\" stroke=\"black\" />\n",
       "</svg>"
      ],
      "text/plain": [
       "<drawSvg.drawing.Drawing at 0x10709a6d8>"
      ]
     },
     "execution_count": 18,
     "metadata": {},
     "output_type": "execute_result"
    }
   ],
   "source": [
    "import drawSvg as draw\n",
    "\n",
    "d = draw.Drawing(200, 200, origin='center')\n",
    "d.append(draw.Circle(0,0,50,\n",
    "         fill='red', stroke_width=1, stroke='black')) # render a circle\n",
    "d  # display drawing"
   ]
  },
  {
   "cell_type": "code",
   "execution_count": null,
   "metadata": {},
   "outputs": [],
   "source": [
    "# ----- DRILL -----\n",
    "# Write two functions hello and goodbye\n",
    "# The function hello prints \"hello\" and then calls the function goodbye\n",
    "# The function goodbye prints \"goodbye\"\n",
    "# The main body of your code should call hello once\n",
    "\n",
    "\n",
    "\n",
    "\n",
    "\n",
    "\n",
    "\n",
    "\n",
    "\n",
    "\n",
    "\n",
    "\n",
    "\n",
    "\n",
    "\n",
    "\n",
    "\n",
    "\n",
    "\n",
    "\n",
    "\n",
    "\n",
    "\n",
    "\n",
    "\n",
    "\n",
    "\n",
    "\n",
    "\n",
    "# ----- SOLUTION -----\n",
    "def hello():\n",
    "    print( \"Hello\" )\n",
    "    goodbye()\n",
    "def goodbye():\n",
    "    print( \"Goodbye\" )\n",
    "hello()\n"
   ]
  },
  {
   "cell_type": "code",
   "execution_count": 19,
   "metadata": {},
   "outputs": [
    {
     "data": {
      "image/svg+xml": [
       "<?xml version=\"1.0\" encoding=\"UTF-8\"?>\n",
       "<svg xmlns=\"http://www.w3.org/2000/svg\" xmlns:xlink=\"http://www.w3.org/1999/xlink\"\n",
       "     width=\"200\" height=\"200\" viewBox=\"-100.0 -100.0 200 200\">\n",
       "<defs>\n",
       "</defs>\n",
       "<rect x=\"0\" y=\"0\" width=\"100\" height=\"100\" fill=\"gray\" stroke=\"black\" />\n",
       "<path d=\"M0,0 L100,0 L50,-50 Z\" fill=\"green\" stroke=\"black\" />\n",
       "<rect x=\"40\" y=\"50\" width=\"20\" height=\"50\" fill=\"red\" stroke=\"black\" />\n",
       "<rect x=\"15\" y=\"15\" width=\"15\" height=\"15\" fill=\"white\" stroke=\"black\" />\n",
       "<rect x=\"70\" y=\"15\" width=\"15\" height=\"15\" fill=\"white\" stroke=\"black\" />\n",
       "</svg>"
      ],
      "text/plain": [
       "<drawSvg.drawing.Drawing at 0x1070b98d0>"
      ]
     },
     "execution_count": 19,
     "metadata": {},
     "output_type": "execute_result"
    }
   ],
   "source": [
    "# draw something using badly commented and written code\n",
    "import drawSvg as draw\n",
    "\n",
    "d = draw.Drawing(200, 200, origin='center')\n",
    "d.append(draw.Rectangle(0,-100,100,100, fill='gray', stroke='black'))\n",
    "d.append(draw.Lines(0,0, 100,0, 50,50, close=True, fill='green', stroke='black'))\n",
    "d.append(draw.Rectangle(40,-100,20,50, fill='red', stroke='black'))\n",
    "d.append(draw.Rectangle(15,-30,15,15, fill='white', stroke='black'))\n",
    "d.append(draw.Rectangle(70,-30,15,15, fill='white', stroke='black'))\n",
    "d"
   ]
  },
  {
   "cell_type": "code",
   "execution_count": 1,
   "metadata": {},
   "outputs": [
    {
     "name": "stderr",
     "output_type": "stream",
     "text": [
      "/home/maxmir/bootcamp_env/lib/python3.6/site-packages/drawSvg/raster.py:11: RuntimeWarning: CairoSVG will need to be installed to rasterize images: Install with `pip3 install cairosvg`\n",
      "  warnings.warn(msg, RuntimeWarning)\n"
     ]
    },
    {
     "data": {
      "image/svg+xml": [
       "<?xml version=\"1.0\" encoding=\"UTF-8\"?>\n",
       "<svg xmlns=\"http://www.w3.org/2000/svg\" xmlns:xlink=\"http://www.w3.org/1999/xlink\"\n",
       "     width=\"200\" height=\"200\" viewBox=\"-100.0 -100.0 200 200\">\n",
       "<defs>\n",
       "</defs>\n",
       "<rect x=\"0\" y=\"0\" width=\"100\" height=\"100\" fill=\"gray\" stroke=\"black\" />\n",
       "<path d=\"M0,0 L100,0 L50,-50 Z\" fill=\"green\" stroke=\"black\" />\n",
       "<rect x=\"40\" y=\"50\" width=\"20\" height=\"50\" fill=\"red\" stroke=\"black\" />\n",
       "<rect x=\"15\" y=\"15\" width=\"15\" height=\"15\" fill=\"white\" stroke=\"black\" />\n",
       "<rect x=\"70\" y=\"15\" width=\"15\" height=\"15\" fill=\"white\" stroke=\"black\" />\n",
       "</svg>"
      ],
      "text/plain": [
       "<drawSvg.drawing.Drawing at 0x7f07202af588>"
      ]
     },
     "execution_count": 1,
     "metadata": {},
     "output_type": "execute_result"
    }
   ],
   "source": [
    "# draw a simple house\n",
    "import drawSvg as draw\n",
    "\n",
    "d = draw.Drawing(200, 200, origin='center')\n",
    "\n",
    "d.append(draw.Rectangle(0,-100,100,100, fill='gray', stroke='black')) # body of house\n",
    "\n",
    "d.append(draw.Lines(0,0, 100,0, 50,50, close=True, fill='green', stroke='black')) # roof\n",
    "\n",
    "d.append(draw.Rectangle(40,-100,20,50, fill='red', stroke='black')) # door\n",
    "\n",
    "d.append(draw.Rectangle(15,-30,15,15, fill='white', stroke='black')) # left window\n",
    "d.append(draw.Rectangle(70,-30,15,15, fill='white', stroke='black')) # right window\n",
    "\n",
    "d  # display drawing"
   ]
  },
  {
   "cell_type": "code",
   "execution_count": 23,
   "metadata": {},
   "outputs": [],
   "source": [
    "# A good coding practice:\n",
    "#   1.) think, think, think\n",
    "#   2.) sketch\n",
    "#   3.) think more\n",
    "#   4.) write 2-3 lines of code\n",
    "#   5.) test your code \n",
    "#   6.) test your code\n",
    "#   7.) test your code \n",
    "#   8.) goto step 4"
   ]
  },
  {
   "cell_type": "code",
   "execution_count": 25,
   "metadata": {},
   "outputs": [
    {
     "data": {
      "image/svg+xml": [
       "<?xml version=\"1.0\" encoding=\"UTF-8\"?>\n",
       "<svg xmlns=\"http://www.w3.org/2000/svg\" xmlns:xlink=\"http://www.w3.org/1999/xlink\"\n",
       "     width=\"200\" height=\"200\" viewBox=\"-100.0 -100.0 200 200\">\n",
       "<defs>\n",
       "</defs>\n",
       "<rect x=\"0\" y=\"0\" width=\"100\" height=\"100\" fill=\"gray\" stroke=\"black\" />\n",
       "<path d=\"M0,0 L100,0 L50,-50 Z\" fill=\"green\" stroke=\"black\" />\n",
       "<rect x=\"40\" y=\"50\" width=\"20\" height=\"50\" fill=\"red\" stroke=\"black\" />\n",
       "<rect x=\"15\" y=\"15\" width=\"15\" height=\"15\" fill=\"white\" stroke=\"black\" />\n",
       "<rect x=\"70\" y=\"15\" width=\"15\" height=\"15\" fill=\"white\" stroke=\"black\" />\n",
       "</svg>"
      ],
      "text/plain": [
       "<drawSvg.drawing.Drawing at 0x1070ba5f8>"
      ]
     },
     "execution_count": 25,
     "metadata": {},
     "output_type": "execute_result"
    }
   ],
   "source": [
    "# draw a simple house\n",
    "import drawSvg as draw\n",
    "\n",
    "x = 100 # shift house's horizontal position by this amount\n",
    "\n",
    "d = draw.Drawing(200, 200, origin='center')\n",
    "\n",
    "d.append(draw.Rectangle(x+0,-100,100,100, fill='gray', stroke='black')) # body of house\n",
    "\n",
    "d.append(draw.Lines(x+0,0, x+100,0, x+50,50, close=True, fill='green', stroke='black')) # roof\n",
    "\n",
    "d.append(draw.Rectangle(x+40,-100,20,50, fill='red', stroke='black')) # door\n",
    "\n",
    "d.append(draw.Rectangle(x+15,-30,15,15, fill='white', stroke='black')) # left window\n",
    "d.append(draw.Rectangle(x+70,-30,15,15, fill='white', stroke='black')) # right window\n",
    "\n",
    "d  # display drawing"
   ]
  },
  {
   "cell_type": "code",
   "execution_count": null,
   "metadata": {},
   "outputs": [],
   "source": [
    "# ----- DRILL -----\n",
    "# Draw your house (see pypi.org/project/drawSvg for more drawing functions)"
   ]
  }
 ],
 "metadata": {
  "kernelspec": {
   "display_name": "Python 3",
   "language": "python",
   "name": "python3"
  },
  "language_info": {
   "codemirror_mode": {
    "name": "ipython",
    "version": 3
   },
   "file_extension": ".py",
   "mimetype": "text/x-python",
   "name": "python",
   "nbconvert_exporter": "python",
   "pygments_lexer": "ipython3",
   "version": "3.6.8"
  }
 },
 "nbformat": 4,
 "nbformat_minor": 2
}
