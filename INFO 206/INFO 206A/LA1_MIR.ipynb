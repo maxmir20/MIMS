{
 "cells": [
  {
   "cell_type": "code",
   "execution_count": null,
   "metadata": {},
   "outputs": [
    {
     "name": "stdout",
     "output_type": "stream",
     "text": [
      "You awaken on a path. The sun is beating down on you and you have a splitting headache from all the ale you drank last night. You're definitely going to get a sunburn. Too bad they don't have sunblock in the middle ages. Gazing around, you see that you're on a path by a cliff. Peering over it, you see a sprawling labyrinth below you. You see the path continues along the cliffside. Do you a)continue on the path or b)try and climb down the cliff?  \n",
      "\n"
     ]
    }
   ],
   "source": [
    "# define a graph node\n",
    "class GraphNode:\n",
    "    def __init__(self, adjacent, data):\n",
    "        self.data = data\n",
    "        self.adjacent = adjacent\n",
    "        \n",
    "    def is_leaf(self):\n",
    "        return( len(self.adjacent) == 0 )\n",
    "        \n",
    "    def __str__(self):\n",
    "        return( self.data )\n",
    "      \n",
    "# parse each line of the story file\n",
    "def parse_line(line):\n",
    "    #\n",
    "    # YOUR CODE HERE: parse \"line\" and populate three variables \"node_name\", \"adjacent_nodes\", and \"text\"\n",
    "    #\n",
    "    node_name, adjacent_nodes, text = line.split(\"|\")\n",
    "    # add all except empty strings\n",
    "    adjacent = []\n",
    "    for a in adjacent_nodes.split():\n",
    "        if a != '':\n",
    "            adjacent.append(a.strip())\n",
    "\n",
    "    return( node_name, adjacent, text )\n",
    "\n",
    "\n",
    "# load the storty from the raw-text file     \n",
    "def load_story(filename):\n",
    "    node_dict = {}\n",
    "    file = open(filename, \"r\")    \n",
    "    for l in file:\n",
    "        # if this is a line in the correct format:\n",
    "        if len(l.split(\"|\")) == 3: \n",
    "            node_name, adjacent_nodes, text = parse_line(l)   \n",
    "            node = GraphNode(adjacent_nodes, text)\n",
    "            node_dict[node_name] = node\n",
    "\n",
    "    file.close()\n",
    "    return( node_dict )\n",
    "\n",
    "# play the game\n",
    "def play_story(story_dict):    \n",
    "    story_node = story_dict[\"START\"]\n",
    "    print(story_node)\n",
    "\n",
    "    while not story_node.is_leaf():\n",
    "        #\n",
    "        # YOUR CODE HERE: get user input and convert ordingal (a,b,c) into an integer (0,1,2) called \"choice\"\n",
    "        #\n",
    "        try:    \n",
    "            choice = ord(input(\"> \")) - 97\n",
    "            story_node = story_dict[ story_node.adjacent[choice] ]\n",
    "            print(story_node)\n",
    "        except:\n",
    "            print(\"that is not a valid input, please try again\")\n",
    "\n",
    "    print(\"THE END\")\n",
    "\n",
    "story_dict = load_story(\"story.txt\") # load story\n",
    "play_story(story_dict) # play the game\n",
    "\n"
   ]
  },
  {
   "cell_type": "code",
   "execution_count": null,
   "metadata": {},
   "outputs": [],
   "source": []
  }
 ],
 "metadata": {
  "kernelspec": {
   "display_name": "Python 3",
   "language": "python",
   "name": "python3"
  },
  "language_info": {
   "codemirror_mode": {
    "name": "ipython",
    "version": 3
   },
   "file_extension": ".py",
   "mimetype": "text/x-python",
   "name": "python",
   "nbconvert_exporter": "python",
   "pygments_lexer": "ipython3",
   "version": "3.6.8"
  }
 },
 "nbformat": 4,
 "nbformat_minor": 2
}
