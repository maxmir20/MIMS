{
 "cells": [
  {
   "cell_type": "code",
   "execution_count": null,
   "metadata": {},
   "outputs": [],
   "source": [
    "# define a graph node\n",
    "class GraphNode:\n",
    "    def __init__(self, adjacent, data):\n",
    "        self.data = data\n",
    "        self.adjacent = adjacent\n",
    "        \n",
    "    def is_leaf(self):\n",
    "#         if len(self.adjacent) == 0:\n",
    "#             print(self.data)\n",
    "        return( len(self.adjacent) == 0 )\n",
    "        \n",
    "    def __str__(self):\n",
    "        return( self.data )\n",
    "      \n",
    "# parse each line of the story file\n",
    "def parse_line(line):\n",
    "    #\n",
    "    # YOUR CODE HERE: parse \"line\" and populate three variables \"node_name\", \"adjacent_nodes\", and \"text\"\n",
    "    #\n",
    "    node_name, adjacent_nodes, text = line.split(\"|\")\n",
    "    # add all except empty strings\n",
    "    adjacent = []\n",
    "    for a in adjacent_nodes.split():\n",
    "        if a != '':\n",
    "            adjacent.append(a.strip())\n",
    "\n",
    "    return( node_name, adjacent, text )\n",
    "\n",
    "\n",
    "# load the storty from the raw-text file     \n",
    "def load_story(filename):\n",
    "    node_dict = {}\n",
    "    file = open(filename, \"r\")    \n",
    "    for l in file:\n",
    "        # if this is a line in the correct format:\n",
    "        if len(l.split(\"|\")) == 3: \n",
    "            node_name, adjacent_nodes, text = parse_line(l)   \n",
    "            node = GraphNode(adjacent_nodes, text)\n",
    "            node_dict[node_name] = node\n",
    "\n",
    "    file.close()\n",
    "    return( node_dict )\n",
    "\n",
    "# play the game\n",
    "def play_story(story_dict):    \n",
    "    story_node = story_dict[\"START\"]\n",
    "    print(story_node)\n",
    "\n",
    "    while not story_node.is_leaf():\n",
    "        #\n",
    "        # YOUR CODE HERE: get user input and convert ordingal (a,b,c) into an integer (0,1,2) called \"choice\"\n",
    "        #\n",
    "        try:    \n",
    "            choice = ord(input(\"> \")) - 97\n",
    "            story_node = story_dict[ story_node.adjacent[choice] ]\n",
    "            print(story_node)\n",
    "        except:\n",
    "            print(\"that is not a valid input, please try again\")\n",
    "\n",
    "    print(\"THE END\")\n",
    "\n",
    "story_dict = load_story(\"story.txt\") # load story\n",
    "play_story(story_dict) # play the game\n",
    "\n"
   ]
  },
  {
   "cell_type": "code",
   "execution_count": 28,
   "metadata": {},
   "outputs": [
    {
     "name": "stdout",
     "output_type": "stream",
     "text": [
      "97\n",
      "98\n",
      "99\n"
     ]
    }
   ],
   "source": [
    "print(ord(\"a\"))\n",
    "print(ord(\"b\"))\n",
    "print(ord(\"c\"))"
   ]
  },
  {
   "cell_type": "code",
   "execution_count": null,
   "metadata": {},
   "outputs": [],
   "source": []
  }
 ],
 "metadata": {
  "kernelspec": {
   "display_name": "Python 3",
   "language": "python",
   "name": "python3"
  }
 },
 "nbformat": 4,
 "nbformat_minor": 2
}
