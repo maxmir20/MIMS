{
 "cells": [
  {
   "cell_type": "code",
   "execution_count": null,
   "metadata": {},
   "outputs": [
    {
     "data": {
      "image/svg+xml": [
       "<?xml version=\"1.0\" encoding=\"UTF-8\"?>\n",
       "<svg xmlns=\"http://www.w3.org/2000/svg\" xmlns:xlink=\"http://www.w3.org/1999/xlink\"\n",
       "     width=\"200\" height=\"200\" viewBox=\"0 -200 200 200\">\n",
       "<defs>\n",
       "</defs>\n",
       "<rect x=\"0\" y=\"-200\" width=\"200\" height=\"200\" fill=\"black\" />\n",
       "<circle cx=\"34.32242546155957\" cy=\"-98.95808023931909\" r=\"4\" fill=\"lime\" />\n",
       "<circle cx=\"0.6859628152882813\" cy=\"-91.30774968664895\" r=\"4\" fill=\"lime\" />\n",
       "<circle cx=\"160.15228502520398\" cy=\"-89.8271967093936\" r=\"4\" fill=\"lime\" />\n",
       "<circle cx=\"167.9283357087679\" cy=\"-54.85439883077052\" r=\"4\" fill=\"lime\" />\n",
       "<circle cx=\"61.04895103701841\" cy=\"-198.83699185169542\" r=\"4\" fill=\"lime\" />\n",
       "<circle cx=\"178.1449760309241\" cy=\"-162.1934254812959\" r=\"4\" fill=\"lime\" />\n",
       "<circle cx=\"29.031387646660036\" cy=\"-104.13845056799269\" r=\"4\" fill=\"lime\" />\n",
       "<circle cx=\"65.28278094976457\" cy=\"-5.806080341194374\" r=\"4\" fill=\"lime\" />\n",
       "<circle cx=\"110.29623593777285\" cy=\"-26.42835584841392\" r=\"4\" fill=\"lime\" />\n",
       "<circle cx=\"165.9050206287601\" cy=\"-98.808939585613\" r=\"4\" fill=\"lime\" />\n",
       "<circle cx=\"84.35199709820151\" cy=\"-22.321802324092218\" r=\"4\" fill=\"lime\" />\n",
       "<circle cx=\"25.95533817844121\" cy=\"-160.9265915980045\" r=\"4\" fill=\"lime\" />\n",
       "<circle cx=\"164.78284852737605\" cy=\"-132.2690179198561\" r=\"4\" fill=\"lime\" />\n",
       "<circle cx=\"39.1361320429177\" cy=\"-15.320170076135653\" r=\"4\" fill=\"lime\" />\n",
       "<circle cx=\"165.82203186226388\" cy=\"-183.6921865632312\" r=\"4\" fill=\"lime\" />\n",
       "<circle cx=\"150.47673158259917\" cy=\"-178.090131624195\" r=\"4\" fill=\"lime\" />\n",
       "<circle cx=\"192.88534157514508\" cy=\"-89.17538304003125\" r=\"4\" fill=\"lime\" />\n",
       "<circle cx=\"64.38363599834915\" cy=\"-25.99161620654081\" r=\"4\" fill=\"lime\" />\n",
       "<circle cx=\"139.30796842061756\" cy=\"-111.23561554651837\" r=\"4\" fill=\"lime\" />\n",
       "<circle cx=\"140.74630261942363\" cy=\"-120.47968030549396\" r=\"4\" fill=\"lime\" />\n",
       "</svg>"
      ],
      "text/plain": [
       "<drawSvg.drawing.Drawing at 0x7f1d63d2f400>"
      ]
     },
     "metadata": {},
     "output_type": "display_data"
    }
   ],
   "source": [
    "import drawSvg as draw\n",
    "import math\n",
    "import random\n",
    "\n",
    "window_height = 200\n",
    "window_width = 200\n",
    "ball_count = 20\n",
    "ball_size = 4\n",
    "x = []\n",
    "y = []\n",
    "vx = []\n",
    "vy = []\n",
    "timestep = 1\n",
    "\n",
    "\n",
    "def generate_positions(): # used to populate the x, y, vx, and vy lists with random values\n",
    "    for i in range(0,ball_count): #iterates for the number of balls we're using in the simulation\n",
    "        x.extend([random.randint(1,window_width)])\n",
    "        y.extend([random.randint(1,window_height)])\n",
    "        vx.extend([random.uniform(-5,5)])\n",
    "        vy.extend([random.uniform(-5,5)])\n",
    "    \n",
    "def update_position(i):\n",
    "    \n",
    "    x[i] = x[i] + timestep*vx[i]\n",
    "    y[i] = y[i] + timestep*vy[i]    \n",
    "    cross_list = [] #list used to hold list of what indexes are matching (to see if balls are at the same location/\"colliding\")\n",
    "    \n",
    "    for l in range(len(x)): #tests list to see if there's overlap between balls\n",
    "        if int(x[l]) >= int(x[i] - 4) and int(x[l]) <= int(x[i] + 4) and int(y[l]) >= int(y[i] - 4) and int(y[l]) <= int(y[i] + 4):\n",
    "            cross_list.append(l) #pulls index numbers of elements in x that match our value. There should always be at least 1 in since we just set it \n",
    "    if len(cross_list) > 1: #checks if the cross_list is bigger than one (i.e there are several balls that share x and y coordinates) \n",
    "        for i in cross_list: # changes velocities and positions \n",
    "            vx[i] *= -1\n",
    "            x[i] = x[i] + timestep*vx[i]\n",
    "            vy[i] *= -1\n",
    "            y[i] = y[i] + timestep*vy[i]\n",
    "\n",
    "    if x[i] >= window_width or x[i] <= 0: #checks if a circle hits the left or right wall\n",
    "        vx[i] *= -1\n",
    "        x[i] = x[i] + timestep*vx[i]\n",
    "    if y[i] >= window_height or y[i] <= 0: #checks if a circle hits the top or bottom wall\n",
    "        vy[i] *= -1\n",
    "        y[i] = y[i] + timestep*vy[i]\n",
    "    \n",
    "    \n",
    "    \n",
    "def draw_ball(i):\n",
    "    d.append(draw.Circle(x[i], y[i], ball_size, fill='lime'))\n",
    "    return d\n",
    "\n",
    "def draw_frame():\n",
    "    for i in range(0,ball_count):\n",
    "        update_position(i)\n",
    "        draw_ball(i)\n",
    "    return d\n",
    "\n",
    "generate_positions() # creates the x,y,vx,vy positions\n",
    "\n",
    "with draw.animate_jupyter(draw_frame, delay=0.05) as anim:\n",
    "    while(True):\n",
    "        d = draw.Drawing(window_width, window_height, origin=(0,0) ) # erase canvas\n",
    "        d.append(draw.Rectangle(0,0,window_width,window_height, fill='black'))\n",
    "        anim.draw_frame() #it's showtime\n",
    "    "
   ]
  },
  {
   "cell_type": "code",
   "execution_count": null,
   "metadata": {},
   "outputs": [],
   "source": []
  },
  {
   "cell_type": "code",
   "execution_count": null,
   "metadata": {},
   "outputs": [],
   "source": []
  }
 ],
 "metadata": {
  "kernelspec": {
   "display_name": "Python 3",
   "language": "python",
   "name": "python3"
  },
  "language_info": {
   "codemirror_mode": {
    "name": "ipython",
    "version": 3
   },
   "file_extension": ".py",
   "mimetype": "text/x-python",
   "name": "python",
   "nbconvert_exporter": "python",
   "pygments_lexer": "ipython3",
   "version": "3.6.8"
  }
 },
 "nbformat": 4,
 "nbformat_minor": 2
}
