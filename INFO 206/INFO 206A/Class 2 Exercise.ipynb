{
 "cells": [
  {
   "cell_type": "code",
   "execution_count": 21,
   "metadata": {},
   "outputs": [
    {
     "name": "stdout",
     "output_type": "stream",
     "text": [
      "hello 48 hello\n"
     ]
    }
   ],
   "source": [
    "import drawSvg as draw\n",
    "# def draw_bullseye():\n",
    "d = draw.Drawing(300, 300, origin = \"center\")\n",
    "\n",
    "s = 20 # used to control size of circle \n",
    "\n",
    "d.append(draw.Circle(0,0,s*3, fill='blue', stroke_width=2, stroke='black'))\n",
    "d.append(draw.Circle(0,0,s*2, fill='green', stroke_width=2, stroke='black'))\n",
    "d.append(draw.Circle(0,0,s, fill='red', stroke_width=2, stroke='black'))\n",
    "\n",
    "d\n",
    "\n",
    "\n",
    "def test1():\n",
    "    age = 53\n",
    "    print(\"hello\", age-5, \"hello\")\n",
    "    \n",
    "test1()"
   ]
  },
  {
   "cell_type": "code",
   "execution_count": null,
   "metadata": {},
   "outputs": [],
   "source": []
  }
 ],
 "metadata": {
  "kernelspec": {
   "display_name": "Python 3",
   "language": "python",
   "name": "python3"
  },
  "language_info": {
   "codemirror_mode": {
    "name": "ipython",
    "version": 3
   },
   "file_extension": ".py",
   "mimetype": "text/x-python",
   "name": "python",
   "nbconvert_exporter": "python",
   "pygments_lexer": "ipython3",
   "version": "3.6.8"
  }
 },
 "nbformat": 4,
 "nbformat_minor": 2
}
