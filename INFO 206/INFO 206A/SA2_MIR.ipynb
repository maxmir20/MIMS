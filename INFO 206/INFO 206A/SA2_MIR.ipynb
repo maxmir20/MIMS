{
 "cells": [
  {
   "cell_type": "code",
   "execution_count": 219,
   "metadata": {
    "scrolled": true
   },
   "outputs": [
    {
     "data": {
      "image/svg+xml": [
       "<?xml version=\"1.0\" encoding=\"UTF-8\"?>\n",
       "<svg xmlns=\"http://www.w3.org/2000/svg\" xmlns:xlink=\"http://www.w3.org/1999/xlink\"\n",
       "     width=\"200\" height=\"100\" viewBox=\"0 -100 200 100\">\n",
       "<defs>\n",
       "</defs>\n",
       "<path d=\"M1,-2 L4,-60\" fill=\"#eeee00\" stroke=\"green\" />\n",
       "<path d=\"M75,-1 L89,-90\" fill=\"#eeee00\" stroke=\"green\" />\n",
       "<path d=\"M1,-2 L89,-90\" stroke=\"#afafaf\" />\n",
       "<path d=\"M1.12,-4.32 L88.44,-86.44\" stroke=\"#b2afac\" />\n",
       "<path d=\"M1.2400000000000002,-6.640000000000004 L87.88,-82.87999999999994\" stroke=\"#b5afa9\" />\n",
       "<path d=\"M1.3600000000000003,-8.960000000000004 L87.32,-79.31999999999988\" stroke=\"#b8afa6\" />\n",
       "<path d=\"M1.4800000000000004,-11.280000000000008 L86.75999999999999,-75.75999999999993\" stroke=\"#bbafa3\" />\n",
       "<path d=\"M1.6000000000000005,-13.600000000000009 L86.19999999999999,-72.19999999999987\" stroke=\"#beafa0\" />\n",
       "<path d=\"M1.7200000000000006,-15.920000000000012 L85.63999999999999,-68.63999999999993\" stroke=\"#c1af9d\" />\n",
       "<path d=\"M1.8400000000000007,-18.240000000000013 L85.07999999999998,-65.07999999999987\" stroke=\"#c4af9a\" />\n",
       "<path d=\"M1.9600000000000009,-20.560000000000013 L84.51999999999998,-61.51999999999981\" stroke=\"#c7af97\" />\n",
       "<path d=\"M2.080000000000001,-22.88000000000002 L83.95999999999998,-57.959999999999866\" stroke=\"#caaf94\" />\n",
       "<path d=\"M2.200000000000001,-25.20000000000002 L83.39999999999998,-54.39999999999981\" stroke=\"#cdaf91\" />\n",
       "<path d=\"M2.320000000000001,-27.52000000000002 L82.83999999999997,-50.83999999999986\" stroke=\"#d0af8e\" />\n",
       "<path d=\"M2.4400000000000013,-29.84000000000002 L82.27999999999997,-47.2799999999998\" stroke=\"#d3af8b\" />\n",
       "<path d=\"M2.5600000000000014,-32.160000000000025 L81.71999999999997,-43.71999999999974\" stroke=\"#d6af88\" />\n",
       "<path d=\"M2.6800000000000015,-34.48000000000003 L81.15999999999997,-40.1599999999998\" stroke=\"#d9af85\" />\n",
       "<path d=\"M2.8000000000000016,-36.800000000000026 L80.59999999999997,-36.59999999999974\" stroke=\"#dcaf82\" />\n",
       "<path d=\"M2.9200000000000017,-39.12000000000003 L80.03999999999996,-33.039999999999736\" stroke=\"#dfaf7f\" />\n",
       "<path d=\"M3.040000000000002,-41.440000000000026 L79.47999999999996,-29.479999999999734\" stroke=\"#e2af7c\" />\n",
       "<path d=\"M3.160000000000002,-43.76000000000003 L78.91999999999996,-25.91999999999973\" stroke=\"#e5af79\" />\n",
       "<path d=\"M3.280000000000002,-46.08000000000004 L78.35999999999996,-22.35999999999973\" stroke=\"#e8af76\" />\n",
       "<path d=\"M3.400000000000002,-48.40000000000005 L77.79999999999995,-18.79999999999967\" stroke=\"#ebaf73\" />\n",
       "<path d=\"M3.5200000000000022,-50.72000000000004 L77.23999999999995,-15.239999999999668\" stroke=\"#eeaf70\" />\n",
       "<path d=\"M3.6400000000000023,-53.04000000000005 L76.67999999999995,-11.679999999999666\" stroke=\"#f1af6d\" />\n",
       "<path d=\"M3.7600000000000025,-55.36000000000004 L76.11999999999995,-8.119999999999663\" stroke=\"#f4af6a\" />\n",
       "<path d=\"M3.8800000000000026,-57.68000000000005 L75.55999999999995,-4.559999999999604\" stroke=\"#f7af67\" />\n",
       "<path d=\"M4.000000000000003,-60.00000000000006 L74.99999999999994,-0.9999999999996021\" stroke=\"#faaf64\" />\n",
       "</svg>"
      ],
      "text/plain": [
       "<drawSvg.drawing.Drawing at 0x7f3b089d70b8>"
      ]
     },
     "execution_count": 219,
     "metadata": {},
     "output_type": "execute_result"
    }
   ],
   "source": [
    "import drawSvg as draw\n",
    "\n",
    "# function that returns the slope and intercept of the coordinates. Also gives us the increment value for moving along the stick\n",
    "def findslope(start,end): \n",
    "    slope = (end[1] - start[1])/(end[0] - start[0]) #finds the slope \n",
    "    b = start[1] - slope * start[0] #finds the Y intercept\n",
    "    increment_value = (end[0]-start[0])/string_number #calculates the distance between x coordinates, then divides by the number of strings\n",
    "    return slope, b, increment_value\n",
    "\n",
    "\n",
    "#sets our variables\n",
    "astart = [1,2] #beginning of a stick\n",
    "aend = [4,60] # end of a stick\n",
    "\n",
    "bend = [89,90] #end of b stick\n",
    "bstart = [75,1] # beginning of b stick\n",
    "\n",
    "apoint = astart # the variable coordinates used for incrementing along the first stick\n",
    "bpoint = bend # the variable coordinates used for incrementing along the second stick    \n",
    "\n",
    "string_number = 25 # number of strings we're drawing\n",
    "\n",
    "aval = findslope(astart,aend) #creates tuple that holds our slope, b intercept, and increment values for a\n",
    "bval = findslope(bstart,bend) #creates tuple that holds our slope, b intercept, and increment values for b\n",
    "\n",
    "#creates the drawing of our sticks \n",
    "d = draw.Drawing(200, 100, origin=(0,0))\n",
    "\n",
    "#creates the line for our A stick\n",
    "d.append(draw.Lines(astart[0], astart[1],\n",
    "                    aend[0], aend[1], \n",
    "                close=False, fill='#eeee00', stroke='green')) \n",
    "#creates the line for our B stick\n",
    "d.append(draw.Lines(bstart[0], bstart[1],\n",
    "                    bend[0], bend[1],\n",
    "                close=False, fill='#eeee00', stroke='green'))\n",
    "\n",
    "R = G = B = 175 #establishes colors \n",
    "i = 0 #establishes counters for while loop\n",
    "while i < string_number + 1: #iterates as long as i is smaller than the string number  \n",
    "    color = '#%02x%02x%02x' % (R, G, B) #converts RGB to Hex\n",
    "    d.append(draw.Lines(apoint[0],apoint[1],\n",
    "                        bpoint[0],bpoint[1],\n",
    "                        stroke=color)) #draws string between points on sticks\n",
    "    \n",
    "    apoint[0] += aval[2] #moves the apoint x coordinate along the stick using the increment value\n",
    "    apoint[1] = aval[0]*apoint[0] + aval[1] #sets the y coordinate of our apoint to the slope * the new x coordinate + b\n",
    "\n",
    "    bpoint[0] -= bval[2] #moves the bpoint x coordinate the opposite direction along the stick using the increment value\n",
    "    bpoint[1] = bval[0]*bpoint[0] + bval[1] #sets the y coordinate of our bpoint to the slope * the new x coordinate + b\n",
    "    \n",
    "    R += int(75/string_number) #changes Red color\n",
    "    B -= int(75/string_number) #changes Blue color\n",
    "    \n",
    "    i+=1 #adds to counter\n",
    "d #prints drawing\n",
    "\n",
    "\n",
    "    \n"
   ]
  },
  {
   "cell_type": "code",
   "execution_count": 232,
   "metadata": {},
   "outputs": [
    {
     "name": "stdout",
     "output_type": "stream",
     "text": [
      "[0, 1, 1, 2, 3, 5, 8, 13]\n"
     ]
    }
   ],
   "source": [
    "def fib(n):\n",
    "    fib_list = [0,1]\n",
    "    for i in range(1,n):\n",
    "        fib_list.extend([fib_list[i-1] +fib_list[i]])\n",
    "    print(fib_list)\n",
    "\n",
    "fib(7)"
   ]
  },
  {
   "cell_type": "code",
   "execution_count": 229,
   "metadata": {},
   "outputs": [
    {
     "data": {
      "text/plain": [
       "True"
      ]
     },
     "execution_count": 229,
     "metadata": {},
     "output_type": "execute_result"
    }
   ],
   "source": [
    "def palindrome(s):\n",
    "    pal = True\n",
    "    for i in range(int(len(s)/2)):\n",
    "        if s[i] != s[len(s)-1-i]:\n",
    "            pal = False\n",
    "    return pal\n",
    "\n",
    "palindrome('otto')"
   ]
  },
  {
   "cell_type": "code",
   "execution_count": 245,
   "metadata": {},
   "outputs": [
    {
     "name": "stdout",
     "output_type": "stream",
     "text": [
      "[1, 2, 1, 1, 1, 2, 3, 4, 5, 3, 3]\n",
      "theres a  1  in  1\n",
      "theres a  1  in  1\n",
      "theres a  1  in  1\n",
      "3\n",
      "4\n",
      "5\n",
      "3\n",
      "3\n"
     ]
    },
    {
     "ename": "IndexError",
     "evalue": "list index out of range",
     "output_type": "error",
     "traceback": [
      "\u001b[0;31m---------------------------------------------------------------------------\u001b[0m",
      "\u001b[0;31mIndexError\u001b[0m                                Traceback (most recent call last)",
      "\u001b[0;32m<ipython-input-245-68f0efa750b7>\u001b[0m in \u001b[0;36m<module>\u001b[0;34m\u001b[0m\n\u001b[1;32m      8\u001b[0m     \u001b[0;32mreturn\u001b[0m \u001b[0ml\u001b[0m\u001b[0;34m\u001b[0m\u001b[0;34m\u001b[0m\u001b[0m\n\u001b[1;32m      9\u001b[0m \u001b[0;34m\u001b[0m\u001b[0m\n\u001b[0;32m---> 10\u001b[0;31m \u001b[0mpop_list\u001b[0m\u001b[0;34m(\u001b[0m\u001b[0;34m[\u001b[0m\u001b[0;36m1\u001b[0m\u001b[0;34m,\u001b[0m\u001b[0;36m2\u001b[0m\u001b[0;34m,\u001b[0m\u001b[0;36m1\u001b[0m\u001b[0;34m,\u001b[0m\u001b[0;36m1\u001b[0m\u001b[0;34m,\u001b[0m\u001b[0;36m1\u001b[0m\u001b[0;34m,\u001b[0m\u001b[0;36m2\u001b[0m\u001b[0;34m,\u001b[0m\u001b[0;36m3\u001b[0m\u001b[0;34m,\u001b[0m\u001b[0;36m4\u001b[0m\u001b[0;34m,\u001b[0m\u001b[0;36m5\u001b[0m\u001b[0;34m,\u001b[0m\u001b[0;36m3\u001b[0m\u001b[0;34m,\u001b[0m\u001b[0;36m3\u001b[0m\u001b[0;34m]\u001b[0m\u001b[0;34m,\u001b[0m \u001b[0;36m1\u001b[0m\u001b[0;34m)\u001b[0m\u001b[0;34m\u001b[0m\u001b[0;34m\u001b[0m\u001b[0m\n\u001b[0m",
      "\u001b[0;32m<ipython-input-245-68f0efa750b7>\u001b[0m in \u001b[0;36mpop_list\u001b[0;34m(l, v)\u001b[0m\n\u001b[1;32m      2\u001b[0m     \u001b[0mprint\u001b[0m\u001b[0;34m(\u001b[0m\u001b[0ml\u001b[0m\u001b[0;34m)\u001b[0m\u001b[0;34m\u001b[0m\u001b[0;34m\u001b[0m\u001b[0m\n\u001b[1;32m      3\u001b[0m     \u001b[0;32mfor\u001b[0m \u001b[0mi\u001b[0m \u001b[0;32min\u001b[0m \u001b[0mrange\u001b[0m\u001b[0;34m(\u001b[0m\u001b[0;36m0\u001b[0m\u001b[0;34m,\u001b[0m\u001b[0mlen\u001b[0m\u001b[0;34m(\u001b[0m\u001b[0ml\u001b[0m\u001b[0;34m)\u001b[0m\u001b[0;34m-\u001b[0m\u001b[0;36m1\u001b[0m\u001b[0;34m)\u001b[0m\u001b[0;34m:\u001b[0m\u001b[0;34m\u001b[0m\u001b[0;34m\u001b[0m\u001b[0m\n\u001b[0;32m----> 4\u001b[0;31m         \u001b[0;32mif\u001b[0m \u001b[0mv\u001b[0m \u001b[0;34m==\u001b[0m \u001b[0ml\u001b[0m\u001b[0;34m[\u001b[0m\u001b[0mi\u001b[0m\u001b[0;34m]\u001b[0m \u001b[0;32mor\u001b[0m \u001b[0mstr\u001b[0m\u001b[0;34m(\u001b[0m\u001b[0mv\u001b[0m\u001b[0;34m)\u001b[0m \u001b[0;32min\u001b[0m \u001b[0mstr\u001b[0m\u001b[0;34m(\u001b[0m\u001b[0ml\u001b[0m\u001b[0;34m[\u001b[0m\u001b[0mi\u001b[0m\u001b[0;34m]\u001b[0m\u001b[0;34m)\u001b[0m\u001b[0;34m:\u001b[0m\u001b[0;34m\u001b[0m\u001b[0;34m\u001b[0m\u001b[0m\n\u001b[0m\u001b[1;32m      5\u001b[0m             \u001b[0mprint\u001b[0m\u001b[0;34m(\u001b[0m\u001b[0;34m'theres a '\u001b[0m\u001b[0;34m,\u001b[0m \u001b[0mv\u001b[0m\u001b[0;34m,\u001b[0m \u001b[0;34m' in '\u001b[0m\u001b[0;34m,\u001b[0m \u001b[0ml\u001b[0m\u001b[0;34m[\u001b[0m\u001b[0mi\u001b[0m\u001b[0;34m]\u001b[0m\u001b[0;34m)\u001b[0m\u001b[0;34m\u001b[0m\u001b[0;34m\u001b[0m\u001b[0m\n\u001b[1;32m      6\u001b[0m             \u001b[0ml\u001b[0m\u001b[0;34m.\u001b[0m\u001b[0mremove\u001b[0m\u001b[0;34m(\u001b[0m\u001b[0mv\u001b[0m\u001b[0;34m)\u001b[0m\u001b[0;34m\u001b[0m\u001b[0;34m\u001b[0m\u001b[0m\n",
      "\u001b[0;31mIndexError\u001b[0m: list index out of range"
     ]
    }
   ],
   "source": [
    "def pop_list(l,v):\n",
    "    print(l)\n",
    "    for i in range(0,len(l)-1):\n",
    "        if v == l[i] or str(v) in str(l[i]):\n",
    "            print('theres a ', v, ' in ', l[i])\n",
    "            l.remove(v)\n",
    "        else: print(l[i])\n",
    "    return l\n",
    "\n",
    "pop_list([1,2,1,1,1,2,3,4,5,3,3], 1)"
   ]
  },
  {
   "cell_type": "code",
   "execution_count": 247,
   "metadata": {},
   "outputs": [
    {
     "name": "stdout",
     "output_type": "stream",
     "text": [
      "1\n",
      "2\n",
      "3\n",
      "4\n",
      "5\n",
      "56\n"
     ]
    }
   ],
   "source": [
    "list = [1,2,3,4,5,56]\n",
    "for i in range (len(list)):\n",
    "    print(list[i])\n",
    "    i+=1\n",
    "    \n",
    "    \n"
   ]
  },
  {
   "cell_type": "code",
   "execution_count": null,
   "metadata": {},
   "outputs": [],
   "source": []
  }
 ],
 "metadata": {
  "kernelspec": {
   "display_name": "Python 3",
   "language": "python",
   "name": "python3"
  },
  "language_info": {
   "codemirror_mode": {
    "name": "ipython",
    "version": 3
   },
   "file_extension": ".py",
   "mimetype": "text/x-python",
   "name": "python",
   "nbconvert_exporter": "python",
   "pygments_lexer": "ipython3",
   "version": "3.6.8"
  }
 },
 "nbformat": 4,
 "nbformat_minor": 2
}
